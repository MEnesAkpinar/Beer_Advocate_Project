{
 "cells": [
  {
   "cell_type": "markdown",
   "id": "7f5ec477",
   "metadata": {},
   "source": [
    "## <p style=\"background-color:#FDFEFE; font-family:newtimeroman; color:#060108; font-size:200%; text-align:center; border-radius:10px 10px;\">Beer Advocate Project</p>\n",
    "\n",
    "![image.png](https://www.theepicureanbeers.co.uk/cdn/shop/articles/AdobeStock_599782467-min.jpg?v=1690787382)"
   ]
  },
  {
   "cell_type": "markdown",
   "id": "9edc8a62",
   "metadata": {},
   "source": [
    "<a id=\"toc\"></a>\n",
    "\n",
    "## <p style=\"background-color:#33475b; font-family:newtimeroman; color:#FFF9ED; font-size:175%; text-align:center; border-radius:10px 10px;\">Content</p>\n",
    "\n",
    "* [Introduction](#0)\n",
    "* [I. Importing Related Libraries](#1)\n",
    "* [II. Load Data and Data Review](#2)\n",
    "* [III. Feature Engineering](#3)\n",
    "* [IV. Questions & Analysis](#4)"
   ]
  },
  {
   "cell_type": "markdown",
   "id": "3231e4ce",
   "metadata": {},
   "source": [
    "## <p style=\"background-color:#33475b; font-family:newtimeroman; color:#FFF9ED; font-size:150%; text-align:center; border-radius:10px 10px;\">Introduction</p>\n",
    "\n",
    "<a id=\"0\"></a>"
   ]
  },
  {
   "cell_type": "markdown",
   "id": "9e427863",
   "metadata": {},
   "source": [
    "   The Beer Advocate dataset offers rich insights into the beer industry, capturing various aspects such as beer types, breweries, user reviews, and ratings. This exploratory data analysis aims to uncover patterns and trends in beer preferences, quality assessments, and consumer demographics. The primary targets include identifying popular beer categories, analyzing factors contributing to high ratings, and understanding consumer feedback. Through this analysis, we expect to gain a deeper understanding of market demands, quality benchmarks, and potential areas for product enhancement in the brewing industry.\n",
    "\n",
    "   This analysis will also address key questions about the dataset to offer practical insights and recommendations. We aim to identify the breweries producing the strongest beers by ABV (alcohol by volume), highlighting brands known for bold flavors and high potency. Additionally, we will explore how to recommend top beers by analyzing factors such as user ratings, review sentiments, and style consistency, ensuring recommendations align with diverse taste preferences. Another key focus will be identifying the attributes that impact beer quality, such as flavor, aroma, and appearance, to understand their correlation with high ratings. For enthusiasts who appreciate beers with aromas and appearances that align closely with traditional beer styles, we’ll provide tailored suggestions, helping users select options that best match their preferences for authentic beer experiences."
   ]
  },
  {
   "cell_type": "markdown",
   "id": "f12b7eb7",
   "metadata": {},
   "source": [
    "## <p style=\"background-color:#33475b; font-family:newtimeroman; color:#FFF9ED; font-size:150%; text-align:center; border-radius:10px 10px;\">I. Importing Related Libraries</p>\n",
    "\n",
    "<a id=\"1\"></a>"
   ]
  },
  {
   "cell_type": "code",
   "execution_count": 3,
   "id": "89d81caa",
   "metadata": {},
   "outputs": [],
   "source": [
    "import numpy as np\n",
    "import pandas as pd \n",
    "\n",
    "import seaborn as sns\n",
    "import matplotlib.pyplot as plt\n",
    "\n",
    "import warnings\n",
    "warnings.filterwarnings(\"ignore\")\n",
    "pd.set_option('display.float_format', '{:.1f}'.format)"
   ]
  },
  {
   "cell_type": "markdown",
   "id": "111f625f",
   "metadata": {},
   "source": [
    "## <p style=\"background-color:#33475b; font-family:newtimeroman; color:#FFF9ED; font-size:150%; text-align:center; border-radius:10px 10px;\">II. Load Data and Data Review</p>\n",
    "\n",
    "<a id=\"2\"></a>"
   ]
  },
  {
   "cell_type": "code",
   "execution_count": 4,
   "id": "ea6d3f83",
   "metadata": {},
   "outputs": [],
   "source": [
    "df_review = pd.read_csv(\"beer_reviews.csv\")"
   ]
  },
  {
   "cell_type": "code",
   "execution_count": 5,
   "id": "f80df2ee",
   "metadata": {
    "scrolled": true
   },
   "outputs": [
    {
     "data": {
      "text/html": [
       "<div>\n",
       "<style scoped>\n",
       "    .dataframe tbody tr th:only-of-type {\n",
       "        vertical-align: middle;\n",
       "    }\n",
       "\n",
       "    .dataframe tbody tr th {\n",
       "        vertical-align: top;\n",
       "    }\n",
       "\n",
       "    .dataframe thead th {\n",
       "        text-align: right;\n",
       "    }\n",
       "</style>\n",
       "<table border=\"1\" class=\"dataframe\">\n",
       "  <thead>\n",
       "    <tr style=\"text-align: right;\">\n",
       "      <th></th>\n",
       "      <th>brewery_id</th>\n",
       "      <th>brewery_name</th>\n",
       "      <th>review_time</th>\n",
       "      <th>review_overall</th>\n",
       "      <th>review_aroma</th>\n",
       "      <th>review_appearance</th>\n",
       "      <th>review_profilename</th>\n",
       "      <th>beer_style</th>\n",
       "      <th>review_palate</th>\n",
       "      <th>review_taste</th>\n",
       "      <th>beer_name</th>\n",
       "      <th>beer_abv</th>\n",
       "      <th>beer_beerid</th>\n",
       "    </tr>\n",
       "  </thead>\n",
       "  <tbody>\n",
       "    <tr>\n",
       "      <th>0</th>\n",
       "      <td>10325</td>\n",
       "      <td>Vecchio Birraio</td>\n",
       "      <td>1234817823</td>\n",
       "      <td>1.5</td>\n",
       "      <td>2.0</td>\n",
       "      <td>2.5</td>\n",
       "      <td>stcules</td>\n",
       "      <td>Hefeweizen</td>\n",
       "      <td>1.5</td>\n",
       "      <td>1.5</td>\n",
       "      <td>Sausa Weizen</td>\n",
       "      <td>5.0</td>\n",
       "      <td>47986</td>\n",
       "    </tr>\n",
       "    <tr>\n",
       "      <th>1</th>\n",
       "      <td>10325</td>\n",
       "      <td>Vecchio Birraio</td>\n",
       "      <td>1235915097</td>\n",
       "      <td>3.0</td>\n",
       "      <td>2.5</td>\n",
       "      <td>3.0</td>\n",
       "      <td>stcules</td>\n",
       "      <td>English Strong Ale</td>\n",
       "      <td>3.0</td>\n",
       "      <td>3.0</td>\n",
       "      <td>Red Moon</td>\n",
       "      <td>6.2</td>\n",
       "      <td>48213</td>\n",
       "    </tr>\n",
       "    <tr>\n",
       "      <th>2</th>\n",
       "      <td>10325</td>\n",
       "      <td>Vecchio Birraio</td>\n",
       "      <td>1235916604</td>\n",
       "      <td>3.0</td>\n",
       "      <td>2.5</td>\n",
       "      <td>3.0</td>\n",
       "      <td>stcules</td>\n",
       "      <td>Foreign / Export Stout</td>\n",
       "      <td>3.0</td>\n",
       "      <td>3.0</td>\n",
       "      <td>Black Horse Black Beer</td>\n",
       "      <td>6.5</td>\n",
       "      <td>48215</td>\n",
       "    </tr>\n",
       "    <tr>\n",
       "      <th>3</th>\n",
       "      <td>10325</td>\n",
       "      <td>Vecchio Birraio</td>\n",
       "      <td>1234725145</td>\n",
       "      <td>3.0</td>\n",
       "      <td>3.0</td>\n",
       "      <td>3.5</td>\n",
       "      <td>stcules</td>\n",
       "      <td>German Pilsener</td>\n",
       "      <td>2.5</td>\n",
       "      <td>3.0</td>\n",
       "      <td>Sausa Pils</td>\n",
       "      <td>5.0</td>\n",
       "      <td>47969</td>\n",
       "    </tr>\n",
       "    <tr>\n",
       "      <th>4</th>\n",
       "      <td>1075</td>\n",
       "      <td>Caldera Brewing Company</td>\n",
       "      <td>1293735206</td>\n",
       "      <td>4.0</td>\n",
       "      <td>4.5</td>\n",
       "      <td>4.0</td>\n",
       "      <td>johnmichaelsen</td>\n",
       "      <td>American Double / Imperial IPA</td>\n",
       "      <td>4.0</td>\n",
       "      <td>4.5</td>\n",
       "      <td>Cauldron DIPA</td>\n",
       "      <td>7.7</td>\n",
       "      <td>64883</td>\n",
       "    </tr>\n",
       "    <tr>\n",
       "      <th>...</th>\n",
       "      <td>...</td>\n",
       "      <td>...</td>\n",
       "      <td>...</td>\n",
       "      <td>...</td>\n",
       "      <td>...</td>\n",
       "      <td>...</td>\n",
       "      <td>...</td>\n",
       "      <td>...</td>\n",
       "      <td>...</td>\n",
       "      <td>...</td>\n",
       "      <td>...</td>\n",
       "      <td>...</td>\n",
       "      <td>...</td>\n",
       "    </tr>\n",
       "    <tr>\n",
       "      <th>1586609</th>\n",
       "      <td>14359</td>\n",
       "      <td>The Defiant Brewing Company</td>\n",
       "      <td>1162684892</td>\n",
       "      <td>5.0</td>\n",
       "      <td>4.0</td>\n",
       "      <td>3.5</td>\n",
       "      <td>maddogruss</td>\n",
       "      <td>Pumpkin Ale</td>\n",
       "      <td>4.0</td>\n",
       "      <td>4.0</td>\n",
       "      <td>The Horseman's Ale</td>\n",
       "      <td>5.2</td>\n",
       "      <td>33061</td>\n",
       "    </tr>\n",
       "    <tr>\n",
       "      <th>1586610</th>\n",
       "      <td>14359</td>\n",
       "      <td>The Defiant Brewing Company</td>\n",
       "      <td>1161048566</td>\n",
       "      <td>4.0</td>\n",
       "      <td>5.0</td>\n",
       "      <td>2.5</td>\n",
       "      <td>yelterdow</td>\n",
       "      <td>Pumpkin Ale</td>\n",
       "      <td>2.0</td>\n",
       "      <td>4.0</td>\n",
       "      <td>The Horseman's Ale</td>\n",
       "      <td>5.2</td>\n",
       "      <td>33061</td>\n",
       "    </tr>\n",
       "    <tr>\n",
       "      <th>1586611</th>\n",
       "      <td>14359</td>\n",
       "      <td>The Defiant Brewing Company</td>\n",
       "      <td>1160702513</td>\n",
       "      <td>4.5</td>\n",
       "      <td>3.5</td>\n",
       "      <td>3.0</td>\n",
       "      <td>TongoRad</td>\n",
       "      <td>Pumpkin Ale</td>\n",
       "      <td>3.5</td>\n",
       "      <td>4.0</td>\n",
       "      <td>The Horseman's Ale</td>\n",
       "      <td>5.2</td>\n",
       "      <td>33061</td>\n",
       "    </tr>\n",
       "    <tr>\n",
       "      <th>1586612</th>\n",
       "      <td>14359</td>\n",
       "      <td>The Defiant Brewing Company</td>\n",
       "      <td>1160023044</td>\n",
       "      <td>4.0</td>\n",
       "      <td>4.5</td>\n",
       "      <td>4.5</td>\n",
       "      <td>dherling</td>\n",
       "      <td>Pumpkin Ale</td>\n",
       "      <td>4.5</td>\n",
       "      <td>4.5</td>\n",
       "      <td>The Horseman's Ale</td>\n",
       "      <td>5.2</td>\n",
       "      <td>33061</td>\n",
       "    </tr>\n",
       "    <tr>\n",
       "      <th>1586613</th>\n",
       "      <td>14359</td>\n",
       "      <td>The Defiant Brewing Company</td>\n",
       "      <td>1160005319</td>\n",
       "      <td>5.0</td>\n",
       "      <td>4.5</td>\n",
       "      <td>4.5</td>\n",
       "      <td>cbl2</td>\n",
       "      <td>Pumpkin Ale</td>\n",
       "      <td>4.5</td>\n",
       "      <td>4.5</td>\n",
       "      <td>The Horseman's Ale</td>\n",
       "      <td>5.2</td>\n",
       "      <td>33061</td>\n",
       "    </tr>\n",
       "  </tbody>\n",
       "</table>\n",
       "<p>1586614 rows × 13 columns</p>\n",
       "</div>"
      ],
      "text/plain": [
       "         brewery_id                 brewery_name  review_time  review_overall  \\\n",
       "0             10325              Vecchio Birraio   1234817823             1.5   \n",
       "1             10325              Vecchio Birraio   1235915097             3.0   \n",
       "2             10325              Vecchio Birraio   1235916604             3.0   \n",
       "3             10325              Vecchio Birraio   1234725145             3.0   \n",
       "4              1075      Caldera Brewing Company   1293735206             4.0   \n",
       "...             ...                          ...          ...             ...   \n",
       "1586609       14359  The Defiant Brewing Company   1162684892             5.0   \n",
       "1586610       14359  The Defiant Brewing Company   1161048566             4.0   \n",
       "1586611       14359  The Defiant Brewing Company   1160702513             4.5   \n",
       "1586612       14359  The Defiant Brewing Company   1160023044             4.0   \n",
       "1586613       14359  The Defiant Brewing Company   1160005319             5.0   \n",
       "\n",
       "         review_aroma  review_appearance review_profilename  \\\n",
       "0                 2.0                2.5            stcules   \n",
       "1                 2.5                3.0            stcules   \n",
       "2                 2.5                3.0            stcules   \n",
       "3                 3.0                3.5            stcules   \n",
       "4                 4.5                4.0     johnmichaelsen   \n",
       "...               ...                ...                ...   \n",
       "1586609           4.0                3.5         maddogruss   \n",
       "1586610           5.0                2.5          yelterdow   \n",
       "1586611           3.5                3.0           TongoRad   \n",
       "1586612           4.5                4.5           dherling   \n",
       "1586613           4.5                4.5               cbl2   \n",
       "\n",
       "                             beer_style  review_palate  review_taste  \\\n",
       "0                            Hefeweizen            1.5           1.5   \n",
       "1                    English Strong Ale            3.0           3.0   \n",
       "2                Foreign / Export Stout            3.0           3.0   \n",
       "3                       German Pilsener            2.5           3.0   \n",
       "4        American Double / Imperial IPA            4.0           4.5   \n",
       "...                                 ...            ...           ...   \n",
       "1586609                     Pumpkin Ale            4.0           4.0   \n",
       "1586610                     Pumpkin Ale            2.0           4.0   \n",
       "1586611                     Pumpkin Ale            3.5           4.0   \n",
       "1586612                     Pumpkin Ale            4.5           4.5   \n",
       "1586613                     Pumpkin Ale            4.5           4.5   \n",
       "\n",
       "                      beer_name  beer_abv  beer_beerid  \n",
       "0                  Sausa Weizen       5.0        47986  \n",
       "1                      Red Moon       6.2        48213  \n",
       "2        Black Horse Black Beer       6.5        48215  \n",
       "3                    Sausa Pils       5.0        47969  \n",
       "4                 Cauldron DIPA       7.7        64883  \n",
       "...                         ...       ...          ...  \n",
       "1586609      The Horseman's Ale       5.2        33061  \n",
       "1586610      The Horseman's Ale       5.2        33061  \n",
       "1586611      The Horseman's Ale       5.2        33061  \n",
       "1586612      The Horseman's Ale       5.2        33061  \n",
       "1586613      The Horseman's Ale       5.2        33061  \n",
       "\n",
       "[1586614 rows x 13 columns]"
      ]
     },
     "execution_count": 5,
     "metadata": {},
     "output_type": "execute_result"
    }
   ],
   "source": [
    "df_review"
   ]
  },
  {
   "cell_type": "code",
   "execution_count": 6,
   "id": "f0fc6d79",
   "metadata": {},
   "outputs": [
    {
     "data": {
      "text/html": [
       "<div>\n",
       "<style scoped>\n",
       "    .dataframe tbody tr th:only-of-type {\n",
       "        vertical-align: middle;\n",
       "    }\n",
       "\n",
       "    .dataframe tbody tr th {\n",
       "        vertical-align: top;\n",
       "    }\n",
       "\n",
       "    .dataframe thead th {\n",
       "        text-align: right;\n",
       "    }\n",
       "</style>\n",
       "<table border=\"1\" class=\"dataframe\">\n",
       "  <thead>\n",
       "    <tr style=\"text-align: right;\">\n",
       "      <th></th>\n",
       "      <th>brewery_id</th>\n",
       "      <th>brewery_name</th>\n",
       "      <th>review_time</th>\n",
       "      <th>review_overall</th>\n",
       "      <th>review_aroma</th>\n",
       "      <th>review_appearance</th>\n",
       "      <th>review_profilename</th>\n",
       "      <th>beer_style</th>\n",
       "      <th>review_palate</th>\n",
       "      <th>review_taste</th>\n",
       "      <th>beer_name</th>\n",
       "      <th>beer_abv</th>\n",
       "      <th>beer_beerid</th>\n",
       "    </tr>\n",
       "  </thead>\n",
       "  <tbody>\n",
       "    <tr>\n",
       "      <th>0</th>\n",
       "      <td>10325</td>\n",
       "      <td>Vecchio Birraio</td>\n",
       "      <td>1234817823</td>\n",
       "      <td>1.5</td>\n",
       "      <td>2.0</td>\n",
       "      <td>2.5</td>\n",
       "      <td>stcules</td>\n",
       "      <td>Hefeweizen</td>\n",
       "      <td>1.5</td>\n",
       "      <td>1.5</td>\n",
       "      <td>Sausa Weizen</td>\n",
       "      <td>5.0</td>\n",
       "      <td>47986</td>\n",
       "    </tr>\n",
       "    <tr>\n",
       "      <th>1</th>\n",
       "      <td>10325</td>\n",
       "      <td>Vecchio Birraio</td>\n",
       "      <td>1235915097</td>\n",
       "      <td>3.0</td>\n",
       "      <td>2.5</td>\n",
       "      <td>3.0</td>\n",
       "      <td>stcules</td>\n",
       "      <td>English Strong Ale</td>\n",
       "      <td>3.0</td>\n",
       "      <td>3.0</td>\n",
       "      <td>Red Moon</td>\n",
       "      <td>6.2</td>\n",
       "      <td>48213</td>\n",
       "    </tr>\n",
       "    <tr>\n",
       "      <th>2</th>\n",
       "      <td>10325</td>\n",
       "      <td>Vecchio Birraio</td>\n",
       "      <td>1235916604</td>\n",
       "      <td>3.0</td>\n",
       "      <td>2.5</td>\n",
       "      <td>3.0</td>\n",
       "      <td>stcules</td>\n",
       "      <td>Foreign / Export Stout</td>\n",
       "      <td>3.0</td>\n",
       "      <td>3.0</td>\n",
       "      <td>Black Horse Black Beer</td>\n",
       "      <td>6.5</td>\n",
       "      <td>48215</td>\n",
       "    </tr>\n",
       "    <tr>\n",
       "      <th>3</th>\n",
       "      <td>10325</td>\n",
       "      <td>Vecchio Birraio</td>\n",
       "      <td>1234725145</td>\n",
       "      <td>3.0</td>\n",
       "      <td>3.0</td>\n",
       "      <td>3.5</td>\n",
       "      <td>stcules</td>\n",
       "      <td>German Pilsener</td>\n",
       "      <td>2.5</td>\n",
       "      <td>3.0</td>\n",
       "      <td>Sausa Pils</td>\n",
       "      <td>5.0</td>\n",
       "      <td>47969</td>\n",
       "    </tr>\n",
       "    <tr>\n",
       "      <th>4</th>\n",
       "      <td>1075</td>\n",
       "      <td>Caldera Brewing Company</td>\n",
       "      <td>1293735206</td>\n",
       "      <td>4.0</td>\n",
       "      <td>4.5</td>\n",
       "      <td>4.0</td>\n",
       "      <td>johnmichaelsen</td>\n",
       "      <td>American Double / Imperial IPA</td>\n",
       "      <td>4.0</td>\n",
       "      <td>4.5</td>\n",
       "      <td>Cauldron DIPA</td>\n",
       "      <td>7.7</td>\n",
       "      <td>64883</td>\n",
       "    </tr>\n",
       "  </tbody>\n",
       "</table>\n",
       "</div>"
      ],
      "text/plain": [
       "   brewery_id             brewery_name  review_time  review_overall  \\\n",
       "0       10325          Vecchio Birraio   1234817823             1.5   \n",
       "1       10325          Vecchio Birraio   1235915097             3.0   \n",
       "2       10325          Vecchio Birraio   1235916604             3.0   \n",
       "3       10325          Vecchio Birraio   1234725145             3.0   \n",
       "4        1075  Caldera Brewing Company   1293735206             4.0   \n",
       "\n",
       "   review_aroma  review_appearance review_profilename  \\\n",
       "0           2.0                2.5            stcules   \n",
       "1           2.5                3.0            stcules   \n",
       "2           2.5                3.0            stcules   \n",
       "3           3.0                3.5            stcules   \n",
       "4           4.5                4.0     johnmichaelsen   \n",
       "\n",
       "                       beer_style  review_palate  review_taste  \\\n",
       "0                      Hefeweizen            1.5           1.5   \n",
       "1              English Strong Ale            3.0           3.0   \n",
       "2          Foreign / Export Stout            3.0           3.0   \n",
       "3                 German Pilsener            2.5           3.0   \n",
       "4  American Double / Imperial IPA            4.0           4.5   \n",
       "\n",
       "                beer_name  beer_abv  beer_beerid  \n",
       "0            Sausa Weizen       5.0        47986  \n",
       "1                Red Moon       6.2        48213  \n",
       "2  Black Horse Black Beer       6.5        48215  \n",
       "3              Sausa Pils       5.0        47969  \n",
       "4           Cauldron DIPA       7.7        64883  "
      ]
     },
     "execution_count": 6,
     "metadata": {},
     "output_type": "execute_result"
    }
   ],
   "source": [
    "df_review.head()"
   ]
  },
  {
   "cell_type": "code",
   "execution_count": 7,
   "id": "e15b57b7",
   "metadata": {
    "scrolled": true
   },
   "outputs": [
    {
     "data": {
      "text/html": [
       "<div>\n",
       "<style scoped>\n",
       "    .dataframe tbody tr th:only-of-type {\n",
       "        vertical-align: middle;\n",
       "    }\n",
       "\n",
       "    .dataframe tbody tr th {\n",
       "        vertical-align: top;\n",
       "    }\n",
       "\n",
       "    .dataframe thead th {\n",
       "        text-align: right;\n",
       "    }\n",
       "</style>\n",
       "<table border=\"1\" class=\"dataframe\">\n",
       "  <thead>\n",
       "    <tr style=\"text-align: right;\">\n",
       "      <th></th>\n",
       "      <th>brewery_id</th>\n",
       "      <th>brewery_name</th>\n",
       "      <th>review_time</th>\n",
       "      <th>review_overall</th>\n",
       "      <th>review_aroma</th>\n",
       "      <th>review_appearance</th>\n",
       "      <th>review_profilename</th>\n",
       "      <th>beer_style</th>\n",
       "      <th>review_palate</th>\n",
       "      <th>review_taste</th>\n",
       "      <th>beer_name</th>\n",
       "      <th>beer_abv</th>\n",
       "      <th>beer_beerid</th>\n",
       "    </tr>\n",
       "  </thead>\n",
       "  <tbody>\n",
       "    <tr>\n",
       "      <th>571704</th>\n",
       "      <td>9897</td>\n",
       "      <td>Jolly Pumpkin Artisan Ales</td>\n",
       "      <td>1324173856</td>\n",
       "      <td>3.5</td>\n",
       "      <td>3.5</td>\n",
       "      <td>4.0</td>\n",
       "      <td>plfahey</td>\n",
       "      <td>Pumpkin Ale</td>\n",
       "      <td>4.0</td>\n",
       "      <td>4.0</td>\n",
       "      <td>La Parcela</td>\n",
       "      <td>6.0</td>\n",
       "      <td>45723</td>\n",
       "    </tr>\n",
       "    <tr>\n",
       "      <th>450662</th>\n",
       "      <td>590</td>\n",
       "      <td>New Glarus Brewing Company</td>\n",
       "      <td>1285292931</td>\n",
       "      <td>5.0</td>\n",
       "      <td>4.5</td>\n",
       "      <td>4.0</td>\n",
       "      <td>Thorpe429</td>\n",
       "      <td>American Wild Ale</td>\n",
       "      <td>5.0</td>\n",
       "      <td>5.0</td>\n",
       "      <td>R&amp;D Bourbon Barrel Kriek</td>\n",
       "      <td>5.5</td>\n",
       "      <td>60588</td>\n",
       "    </tr>\n",
       "    <tr>\n",
       "      <th>930563</th>\n",
       "      <td>287</td>\n",
       "      <td>Bell's Brewery, Inc.</td>\n",
       "      <td>1227305575</td>\n",
       "      <td>4.0</td>\n",
       "      <td>4.0</td>\n",
       "      <td>4.0</td>\n",
       "      <td>BWH3</td>\n",
       "      <td>American Stout</td>\n",
       "      <td>4.5</td>\n",
       "      <td>4.5</td>\n",
       "      <td>Bell's Special Double Cream Stout</td>\n",
       "      <td>6.1</td>\n",
       "      <td>2403</td>\n",
       "    </tr>\n",
       "    <tr>\n",
       "      <th>731366</th>\n",
       "      <td>240</td>\n",
       "      <td>Murphy Brewery Ireland Limited</td>\n",
       "      <td>1302911775</td>\n",
       "      <td>3.5</td>\n",
       "      <td>3.0</td>\n",
       "      <td>4.0</td>\n",
       "      <td>bnes09</td>\n",
       "      <td>Irish Dry Stout</td>\n",
       "      <td>3.5</td>\n",
       "      <td>3.5</td>\n",
       "      <td>Murphy's Irish Stout</td>\n",
       "      <td>4.0</td>\n",
       "      <td>703</td>\n",
       "    </tr>\n",
       "    <tr>\n",
       "      <th>1182131</th>\n",
       "      <td>10099</td>\n",
       "      <td>Dogfish Head Brewery</td>\n",
       "      <td>1138393680</td>\n",
       "      <td>4.5</td>\n",
       "      <td>4.5</td>\n",
       "      <td>3.5</td>\n",
       "      <td>Todd</td>\n",
       "      <td>Fruit / Vegetable Beer</td>\n",
       "      <td>4.0</td>\n",
       "      <td>4.5</td>\n",
       "      <td>Fort</td>\n",
       "      <td>18.0</td>\n",
       "      <td>21466</td>\n",
       "    </tr>\n",
       "    <tr>\n",
       "      <th>911554</th>\n",
       "      <td>764</td>\n",
       "      <td>Blue Point Brewing Company</td>\n",
       "      <td>1290218225</td>\n",
       "      <td>3.5</td>\n",
       "      <td>3.5</td>\n",
       "      <td>4.5</td>\n",
       "      <td>Gmann</td>\n",
       "      <td>American Black Ale</td>\n",
       "      <td>3.5</td>\n",
       "      <td>3.5</td>\n",
       "      <td>Blue Point Toxic Sludge</td>\n",
       "      <td>7.0</td>\n",
       "      <td>60730</td>\n",
       "    </tr>\n",
       "    <tr>\n",
       "      <th>1281749</th>\n",
       "      <td>335</td>\n",
       "      <td>New Holland Brewing Company</td>\n",
       "      <td>1188713811</td>\n",
       "      <td>2.0</td>\n",
       "      <td>3.5</td>\n",
       "      <td>3.5</td>\n",
       "      <td>Dalem</td>\n",
       "      <td>Witbier</td>\n",
       "      <td>2.5</td>\n",
       "      <td>2.0</td>\n",
       "      <td>New Holland Zoomer Wit</td>\n",
       "      <td>5.0</td>\n",
       "      <td>2208</td>\n",
       "    </tr>\n",
       "    <tr>\n",
       "      <th>2433</th>\n",
       "      <td>16859</td>\n",
       "      <td>Great South Bay Brewery</td>\n",
       "      <td>1292189754</td>\n",
       "      <td>3.5</td>\n",
       "      <td>3.5</td>\n",
       "      <td>3.5</td>\n",
       "      <td>SkunkWorks</td>\n",
       "      <td>Rye Beer</td>\n",
       "      <td>3.5</td>\n",
       "      <td>3.5</td>\n",
       "      <td>Sleigh Ryed</td>\n",
       "      <td>6.6</td>\n",
       "      <td>64348</td>\n",
       "    </tr>\n",
       "    <tr>\n",
       "      <th>233203</th>\n",
       "      <td>1628</td>\n",
       "      <td>Southampton Publick House</td>\n",
       "      <td>1278816074</td>\n",
       "      <td>4.0</td>\n",
       "      <td>3.5</td>\n",
       "      <td>3.5</td>\n",
       "      <td>FickleBeast</td>\n",
       "      <td>Bière de Garde</td>\n",
       "      <td>4.5</td>\n",
       "      <td>4.0</td>\n",
       "      <td>Southampton Biere De Mars</td>\n",
       "      <td>6.5</td>\n",
       "      <td>16786</td>\n",
       "    </tr>\n",
       "    <tr>\n",
       "      <th>732631</th>\n",
       "      <td>1170</td>\n",
       "      <td>Upland Brewing Company</td>\n",
       "      <td>1303681017</td>\n",
       "      <td>3.0</td>\n",
       "      <td>3.5</td>\n",
       "      <td>4.0</td>\n",
       "      <td>nrbw23</td>\n",
       "      <td>American Barleywine</td>\n",
       "      <td>3.5</td>\n",
       "      <td>3.5</td>\n",
       "      <td>Ard Ri</td>\n",
       "      <td>9.5</td>\n",
       "      <td>39006</td>\n",
       "    </tr>\n",
       "  </tbody>\n",
       "</table>\n",
       "</div>"
      ],
      "text/plain": [
       "         brewery_id                    brewery_name  review_time  \\\n",
       "571704         9897      Jolly Pumpkin Artisan Ales   1324173856   \n",
       "450662          590      New Glarus Brewing Company   1285292931   \n",
       "930563          287            Bell's Brewery, Inc.   1227305575   \n",
       "731366          240  Murphy Brewery Ireland Limited   1302911775   \n",
       "1182131       10099            Dogfish Head Brewery   1138393680   \n",
       "911554          764      Blue Point Brewing Company   1290218225   \n",
       "1281749         335     New Holland Brewing Company   1188713811   \n",
       "2433          16859         Great South Bay Brewery   1292189754   \n",
       "233203         1628       Southampton Publick House   1278816074   \n",
       "732631         1170          Upland Brewing Company   1303681017   \n",
       "\n",
       "         review_overall  review_aroma  review_appearance review_profilename  \\\n",
       "571704              3.5           3.5                4.0            plfahey   \n",
       "450662              5.0           4.5                4.0          Thorpe429   \n",
       "930563              4.0           4.0                4.0               BWH3   \n",
       "731366              3.5           3.0                4.0             bnes09   \n",
       "1182131             4.5           4.5                3.5               Todd   \n",
       "911554              3.5           3.5                4.5              Gmann   \n",
       "1281749             2.0           3.5                3.5              Dalem   \n",
       "2433                3.5           3.5                3.5         SkunkWorks   \n",
       "233203              4.0           3.5                3.5        FickleBeast   \n",
       "732631              3.0           3.5                4.0             nrbw23   \n",
       "\n",
       "                     beer_style  review_palate  review_taste  \\\n",
       "571704              Pumpkin Ale            4.0           4.0   \n",
       "450662        American Wild Ale            5.0           5.0   \n",
       "930563           American Stout            4.5           4.5   \n",
       "731366          Irish Dry Stout            3.5           3.5   \n",
       "1182131  Fruit / Vegetable Beer            4.0           4.5   \n",
       "911554       American Black Ale            3.5           3.5   \n",
       "1281749                 Witbier            2.5           2.0   \n",
       "2433                   Rye Beer            3.5           3.5   \n",
       "233203           Bière de Garde            4.5           4.0   \n",
       "732631      American Barleywine            3.5           3.5   \n",
       "\n",
       "                                 beer_name  beer_abv  beer_beerid  \n",
       "571704                          La Parcela       6.0        45723  \n",
       "450662            R&D Bourbon Barrel Kriek       5.5        60588  \n",
       "930563   Bell's Special Double Cream Stout       6.1         2403  \n",
       "731366                Murphy's Irish Stout       4.0          703  \n",
       "1182131                               Fort      18.0        21466  \n",
       "911554             Blue Point Toxic Sludge       7.0        60730  \n",
       "1281749             New Holland Zoomer Wit       5.0         2208  \n",
       "2433                           Sleigh Ryed       6.6        64348  \n",
       "233203           Southampton Biere De Mars       6.5        16786  \n",
       "732631                              Ard Ri       9.5        39006  "
      ]
     },
     "execution_count": 7,
     "metadata": {},
     "output_type": "execute_result"
    }
   ],
   "source": [
    "df_review.sample(10)"
   ]
  },
  {
   "cell_type": "code",
   "execution_count": 8,
   "id": "5ac2dbeb",
   "metadata": {},
   "outputs": [
    {
     "data": {
      "text/plain": [
       "(1586614, 13)"
      ]
     },
     "execution_count": 8,
     "metadata": {},
     "output_type": "execute_result"
    }
   ],
   "source": [
    "df_review.shape"
   ]
  },
  {
   "cell_type": "code",
   "execution_count": 9,
   "id": "6272caed",
   "metadata": {},
   "outputs": [
    {
     "data": {
      "text/plain": [
       "Index(['brewery_id', 'brewery_name', 'review_time', 'review_overall',\n",
       "       'review_aroma', 'review_appearance', 'review_profilename', 'beer_style',\n",
       "       'review_palate', 'review_taste', 'beer_name', 'beer_abv',\n",
       "       'beer_beerid'],\n",
       "      dtype='object')"
      ]
     },
     "execution_count": 9,
     "metadata": {},
     "output_type": "execute_result"
    }
   ],
   "source": [
    "df_review.columns"
   ]
  },
  {
   "cell_type": "code",
   "execution_count": 10,
   "id": "6bf5f181",
   "metadata": {
    "scrolled": true
   },
   "outputs": [
    {
     "name": "stdout",
     "output_type": "stream",
     "text": [
      "<class 'pandas.core.frame.DataFrame'>\n",
      "RangeIndex: 1586614 entries, 0 to 1586613\n",
      "Data columns (total 13 columns):\n",
      " #   Column              Non-Null Count    Dtype  \n",
      "---  ------              --------------    -----  \n",
      " 0   brewery_id          1586614 non-null  int64  \n",
      " 1   brewery_name        1586599 non-null  object \n",
      " 2   review_time         1586614 non-null  int64  \n",
      " 3   review_overall      1586614 non-null  float64\n",
      " 4   review_aroma        1586614 non-null  float64\n",
      " 5   review_appearance   1586614 non-null  float64\n",
      " 6   review_profilename  1586266 non-null  object \n",
      " 7   beer_style          1586614 non-null  object \n",
      " 8   review_palate       1586614 non-null  float64\n",
      " 9   review_taste        1586614 non-null  float64\n",
      " 10  beer_name           1586614 non-null  object \n",
      " 11  beer_abv            1518829 non-null  float64\n",
      " 12  beer_beerid         1586614 non-null  int64  \n",
      "dtypes: float64(6), int64(3), object(4)\n",
      "memory usage: 157.4+ MB\n"
     ]
    }
   ],
   "source": [
    "df_review.info()"
   ]
  },
  {
   "cell_type": "code",
   "execution_count": 11,
   "id": "71796c72",
   "metadata": {
    "scrolled": true
   },
   "outputs": [
    {
     "data": {
      "text/html": [
       "<div>\n",
       "<style scoped>\n",
       "    .dataframe tbody tr th:only-of-type {\n",
       "        vertical-align: middle;\n",
       "    }\n",
       "\n",
       "    .dataframe tbody tr th {\n",
       "        vertical-align: top;\n",
       "    }\n",
       "\n",
       "    .dataframe thead th {\n",
       "        text-align: right;\n",
       "    }\n",
       "</style>\n",
       "<table border=\"1\" class=\"dataframe\">\n",
       "  <thead>\n",
       "    <tr style=\"text-align: right;\">\n",
       "      <th></th>\n",
       "      <th>count</th>\n",
       "      <th>mean</th>\n",
       "      <th>std</th>\n",
       "      <th>min</th>\n",
       "      <th>25%</th>\n",
       "      <th>50%</th>\n",
       "      <th>75%</th>\n",
       "      <th>max</th>\n",
       "    </tr>\n",
       "  </thead>\n",
       "  <tbody>\n",
       "    <tr>\n",
       "      <th>brewery_id</th>\n",
       "      <td>1586614.0</td>\n",
       "      <td>3130.1</td>\n",
       "      <td>5578.1</td>\n",
       "      <td>1.0</td>\n",
       "      <td>143.0</td>\n",
       "      <td>429.0</td>\n",
       "      <td>2372.0</td>\n",
       "      <td>28003.0</td>\n",
       "    </tr>\n",
       "    <tr>\n",
       "      <th>review_time</th>\n",
       "      <td>1586614.0</td>\n",
       "      <td>1224089280.0</td>\n",
       "      <td>76544274.5</td>\n",
       "      <td>840672001.0</td>\n",
       "      <td>1173224188.2</td>\n",
       "      <td>1239202881.5</td>\n",
       "      <td>1288568405.2</td>\n",
       "      <td>1326285348.0</td>\n",
       "    </tr>\n",
       "    <tr>\n",
       "      <th>review_overall</th>\n",
       "      <td>1586614.0</td>\n",
       "      <td>3.8</td>\n",
       "      <td>0.7</td>\n",
       "      <td>0.0</td>\n",
       "      <td>3.5</td>\n",
       "      <td>4.0</td>\n",
       "      <td>4.5</td>\n",
       "      <td>5.0</td>\n",
       "    </tr>\n",
       "    <tr>\n",
       "      <th>review_aroma</th>\n",
       "      <td>1586614.0</td>\n",
       "      <td>3.7</td>\n",
       "      <td>0.7</td>\n",
       "      <td>1.0</td>\n",
       "      <td>3.5</td>\n",
       "      <td>4.0</td>\n",
       "      <td>4.0</td>\n",
       "      <td>5.0</td>\n",
       "    </tr>\n",
       "    <tr>\n",
       "      <th>review_appearance</th>\n",
       "      <td>1586614.0</td>\n",
       "      <td>3.8</td>\n",
       "      <td>0.6</td>\n",
       "      <td>0.0</td>\n",
       "      <td>3.5</td>\n",
       "      <td>4.0</td>\n",
       "      <td>4.0</td>\n",
       "      <td>5.0</td>\n",
       "    </tr>\n",
       "    <tr>\n",
       "      <th>review_palate</th>\n",
       "      <td>1586614.0</td>\n",
       "      <td>3.7</td>\n",
       "      <td>0.7</td>\n",
       "      <td>1.0</td>\n",
       "      <td>3.5</td>\n",
       "      <td>4.0</td>\n",
       "      <td>4.0</td>\n",
       "      <td>5.0</td>\n",
       "    </tr>\n",
       "    <tr>\n",
       "      <th>review_taste</th>\n",
       "      <td>1586614.0</td>\n",
       "      <td>3.8</td>\n",
       "      <td>0.7</td>\n",
       "      <td>1.0</td>\n",
       "      <td>3.5</td>\n",
       "      <td>4.0</td>\n",
       "      <td>4.5</td>\n",
       "      <td>5.0</td>\n",
       "    </tr>\n",
       "    <tr>\n",
       "      <th>beer_abv</th>\n",
       "      <td>1518829.0</td>\n",
       "      <td>7.0</td>\n",
       "      <td>2.3</td>\n",
       "      <td>0.0</td>\n",
       "      <td>5.2</td>\n",
       "      <td>6.5</td>\n",
       "      <td>8.5</td>\n",
       "      <td>57.7</td>\n",
       "    </tr>\n",
       "    <tr>\n",
       "      <th>beer_beerid</th>\n",
       "      <td>1586614.0</td>\n",
       "      <td>21712.8</td>\n",
       "      <td>21818.3</td>\n",
       "      <td>3.0</td>\n",
       "      <td>1717.0</td>\n",
       "      <td>13906.0</td>\n",
       "      <td>39441.0</td>\n",
       "      <td>77317.0</td>\n",
       "    </tr>\n",
       "  </tbody>\n",
       "</table>\n",
       "</div>"
      ],
      "text/plain": [
       "                      count         mean        std         min          25%  \\\n",
       "brewery_id        1586614.0       3130.1     5578.1         1.0        143.0   \n",
       "review_time       1586614.0 1224089280.0 76544274.5 840672001.0 1173224188.2   \n",
       "review_overall    1586614.0          3.8        0.7         0.0          3.5   \n",
       "review_aroma      1586614.0          3.7        0.7         1.0          3.5   \n",
       "review_appearance 1586614.0          3.8        0.6         0.0          3.5   \n",
       "review_palate     1586614.0          3.7        0.7         1.0          3.5   \n",
       "review_taste      1586614.0          3.8        0.7         1.0          3.5   \n",
       "beer_abv          1518829.0          7.0        2.3         0.0          5.2   \n",
       "beer_beerid       1586614.0      21712.8    21818.3         3.0       1717.0   \n",
       "\n",
       "                           50%          75%          max  \n",
       "brewery_id               429.0       2372.0      28003.0  \n",
       "review_time       1239202881.5 1288568405.2 1326285348.0  \n",
       "review_overall             4.0          4.5          5.0  \n",
       "review_aroma               4.0          4.0          5.0  \n",
       "review_appearance          4.0          4.0          5.0  \n",
       "review_palate              4.0          4.0          5.0  \n",
       "review_taste               4.0          4.5          5.0  \n",
       "beer_abv                   6.5          8.5         57.7  \n",
       "beer_beerid            13906.0      39441.0      77317.0  "
      ]
     },
     "execution_count": 11,
     "metadata": {},
     "output_type": "execute_result"
    }
   ],
   "source": [
    "df_review.describe().T"
   ]
  },
  {
   "cell_type": "markdown",
   "id": "1c9a9d10",
   "metadata": {},
   "source": [
    "#### According to statistical summary of beer advocat dataset:"
   ]
  },
  {
   "cell_type": "markdown",
   "id": "5c6e5e13",
   "metadata": {},
   "source": [
    "1) I did some internet research on **review_time** values and found out that they are **Unix timestamps** that show the each year the given review was given.  As an example, the minimum value of the review_time column in the dataset, 840672001, is actually equivalent to 1996. The maximum value, 1326285348, is equivalent to 2012. The reason for the large amount of the dataset is that it contains reviews covering a long period of time. "
   ]
  },
  {
   "cell_type": "markdown",
   "id": "3818bf41",
   "metadata": {},
   "source": [
    "2) The average **review_overall**, **review_aroma**, **review_appearance**, **review_palate** and **review_taste** scores are close to each other, with most reviews between 3.5 and 4.5. This shows that users generally rate the beers quite positively. \n",
    "\n",
    "    I noticed something that needs to be examined here; some reviews start from 1 and go up to 5, while others start from 0. So it is necessary to understand whether the rating range is 0-5 or 1-5. "
   ]
  },
  {
   "cell_type": "markdown",
   "id": "c9ff8e80",
   "metadata": {},
   "source": [
    "3) Finally, it is clear from **count** that there are some missing values in **beer_abv** column."
   ]
  },
  {
   "cell_type": "code",
   "execution_count": 12,
   "id": "d700b24f",
   "metadata": {},
   "outputs": [
    {
     "data": {
      "text/html": [
       "<div>\n",
       "<style scoped>\n",
       "    .dataframe tbody tr th:only-of-type {\n",
       "        vertical-align: middle;\n",
       "    }\n",
       "\n",
       "    .dataframe tbody tr th {\n",
       "        vertical-align: top;\n",
       "    }\n",
       "\n",
       "    .dataframe thead th {\n",
       "        text-align: right;\n",
       "    }\n",
       "</style>\n",
       "<table border=\"1\" class=\"dataframe\">\n",
       "  <thead>\n",
       "    <tr style=\"text-align: right;\">\n",
       "      <th></th>\n",
       "      <th>count</th>\n",
       "      <th>unique</th>\n",
       "      <th>top</th>\n",
       "      <th>freq</th>\n",
       "    </tr>\n",
       "  </thead>\n",
       "  <tbody>\n",
       "    <tr>\n",
       "      <th>brewery_name</th>\n",
       "      <td>1586599</td>\n",
       "      <td>5742</td>\n",
       "      <td>Boston Beer Company (Samuel Adams)</td>\n",
       "      <td>39444</td>\n",
       "    </tr>\n",
       "    <tr>\n",
       "      <th>review_profilename</th>\n",
       "      <td>1586266</td>\n",
       "      <td>33387</td>\n",
       "      <td>northyorksammy</td>\n",
       "      <td>5817</td>\n",
       "    </tr>\n",
       "    <tr>\n",
       "      <th>beer_style</th>\n",
       "      <td>1586614</td>\n",
       "      <td>104</td>\n",
       "      <td>American IPA</td>\n",
       "      <td>117586</td>\n",
       "    </tr>\n",
       "    <tr>\n",
       "      <th>beer_name</th>\n",
       "      <td>1586614</td>\n",
       "      <td>56857</td>\n",
       "      <td>90 Minute IPA</td>\n",
       "      <td>3290</td>\n",
       "    </tr>\n",
       "  </tbody>\n",
       "</table>\n",
       "</div>"
      ],
      "text/plain": [
       "                      count unique                                 top    freq\n",
       "brewery_name        1586599   5742  Boston Beer Company (Samuel Adams)   39444\n",
       "review_profilename  1586266  33387                      northyorksammy    5817\n",
       "beer_style          1586614    104                        American IPA  117586\n",
       "beer_name           1586614  56857                       90 Minute IPA    3290"
      ]
     },
     "execution_count": 12,
     "metadata": {},
     "output_type": "execute_result"
    }
   ],
   "source": [
    "df_review.describe(include=object).T"
   ]
  },
  {
   "cell_type": "markdown",
   "id": "c2775d0d",
   "metadata": {},
   "source": [
    "#### According to categorical columns:"
   ]
  },
  {
   "cell_type": "markdown",
   "id": "523173c0",
   "metadata": {},
   "source": [
    "1) The most frequently reviewed **brewery_name** is **Boston Beer Company (Samuel Adams)**. It will be good to know for further stages in our analysis. "
   ]
  },
  {
   "cell_type": "markdown",
   "id": "341be1b5",
   "metadata": {},
   "source": [
    "2) It is seen that in the **review_profilename**, there are 33387 profiles, which means that around 34K people have reviewed at least once. "
   ]
  },
  {
   "cell_type": "markdown",
   "id": "2289af55",
   "metadata": {},
   "source": [
    "3) Based on the frequency, **American IPA** is the most popular **beer_style**. "
   ]
  },
  {
   "cell_type": "markdown",
   "id": "e3377aca",
   "metadata": {},
   "source": [
    "3) It is noticed that the most reviewed beer is **90 Minute IPA** as **beer_name**. "
   ]
  },
  {
   "cell_type": "markdown",
   "id": "fd54bde5",
   "metadata": {},
   "source": [
    "4) In conclusion, the summary of categorical values was observed with statistical data. In order to extract some insights from these statisticals details, their relationship to each other needs to be examined. "
   ]
  },
  {
   "cell_type": "markdown",
   "id": "afc49513",
   "metadata": {},
   "source": [
    "## <p style=\"background-color:#33475b; font-family:newtimeroman; color:#FFF9ED; font-size:150%; text-align:center; border-radius:10px 10px;\">III. Feature Engineering</p>\n",
    "\n",
    "<a id=\"3\"></a>"
   ]
  },
  {
   "cell_type": "code",
   "execution_count": 13,
   "id": "c85b62bc",
   "metadata": {},
   "outputs": [
    {
     "data": {
      "text/plain": [
       "Index(['brewery_id', 'brewery_name', 'review_time', 'review_overall',\n",
       "       'review_aroma', 'review_appearance', 'review_profilename', 'beer_style',\n",
       "       'review_palate', 'review_taste', 'beer_name', 'beer_abv',\n",
       "       'beer_beerid'],\n",
       "      dtype='object')"
      ]
     },
     "execution_count": 13,
     "metadata": {},
     "output_type": "execute_result"
    }
   ],
   "source": [
    "df_review.columns"
   ]
  },
  {
   "cell_type": "code",
   "execution_count": 14,
   "id": "fada4af0",
   "metadata": {},
   "outputs": [
    {
     "data": {
      "text/plain": [
       "0"
      ]
     },
     "execution_count": 14,
     "metadata": {},
     "output_type": "execute_result"
    }
   ],
   "source": [
    "df_review.duplicated().sum()"
   ]
  },
  {
   "cell_type": "markdown",
   "id": "262642c2",
   "metadata": {},
   "source": [
    "* There is not any duplicated value. "
   ]
  },
  {
   "cell_type": "code",
   "execution_count": 15,
   "id": "cc2ddae9",
   "metadata": {},
   "outputs": [
    {
     "data": {
      "text/plain": [
       "brewery_id                0\n",
       "brewery_name             15\n",
       "review_time               0\n",
       "review_overall            0\n",
       "review_aroma              0\n",
       "review_appearance         0\n",
       "review_profilename      348\n",
       "beer_style                0\n",
       "review_palate             0\n",
       "review_taste              0\n",
       "beer_name                 0\n",
       "beer_abv              67785\n",
       "beer_beerid               0\n",
       "dtype: int64"
      ]
     },
     "execution_count": 15,
     "metadata": {},
     "output_type": "execute_result"
    }
   ],
   "source": [
    "df_review.isna().sum()"
   ]
  },
  {
   "cell_type": "code",
   "execution_count": 16,
   "id": "21513414",
   "metadata": {},
   "outputs": [
    {
     "data": {
      "text/plain": [
       "brewery_id           0.000\n",
       "brewery_name         0.001\n",
       "review_time          0.000\n",
       "review_overall       0.000\n",
       "review_aroma         0.000\n",
       "review_appearance    0.000\n",
       "review_profilename   0.022\n",
       "beer_style           0.000\n",
       "review_palate        0.000\n",
       "review_taste         0.000\n",
       "beer_name            0.000\n",
       "beer_abv             4.272\n",
       "beer_beerid          0.000\n",
       "dtype: float64"
      ]
     },
     "execution_count": 16,
     "metadata": {},
     "output_type": "execute_result"
    }
   ],
   "source": [
    "pd.set_option('display.float_format', '{:.3f}'.format)\n",
    "\n",
    "round((df_review.isna().sum() / df_review.shape[0] * 100),3)"
   ]
  },
  {
   "cell_type": "markdown",
   "id": "bd89bed8",
   "metadata": {},
   "source": [
    "* As seen above, there are missing values in **brewery_name, review_profilname**, and **beer_abv** in 3 columns. Before dealing with the missing values in our dataset, I first check the missing percentages of the given columns. Then an approach evaluation is required. I think there are 2 options here for dealing with missing values in this dataset."
   ]
  },
  {
   "cell_type": "code",
   "execution_count": 17,
   "id": "49c2a3a9",
   "metadata": {},
   "outputs": [
    {
     "data": {
      "text/plain": [
       "brewery_id            0\n",
       "brewery_name          0\n",
       "review_time           0\n",
       "review_overall        0\n",
       "review_aroma          0\n",
       "review_appearance     0\n",
       "review_profilename    0\n",
       "beer_style            0\n",
       "review_palate         0\n",
       "review_taste          0\n",
       "beer_name             0\n",
       "beer_abv              0\n",
       "beer_beerid           0\n",
       "dtype: int64"
      ]
     },
     "execution_count": 17,
     "metadata": {},
     "output_type": "execute_result"
    }
   ],
   "source": [
    "df_review = df_review.dropna()\n",
    "\n",
    "df_review.isna().sum()"
   ]
  },
  {
   "cell_type": "markdown",
   "id": "e358ce05",
   "metadata": {},
   "source": [
    "* The first option for dealing with missing values is to check if the values in the missing **beer_abv** column are available in other sources. On this regard, I did quick internet research to see if I could populate these missing values with their corresponding values from other sources via API requests. However, I could not find a dataset where these columns were already populated. Therefore, for the analysis, I want to work with second approach. \n",
    "\n",
    "* As per the second approach, I decided to drop the missing rows from the dataset given that their percentages are already 0.001, 0.022, and 4.27 in our overall dataset. "
   ]
  },
  {
   "cell_type": "markdown",
   "id": "6e6c02f3",
   "metadata": {},
   "source": [
    "### 1) brewery_id"
   ]
  },
  {
   "cell_type": "code",
   "execution_count": 18,
   "id": "4850c043",
   "metadata": {},
   "outputs": [
    {
     "data": {
      "text/plain": [
       "<bound method IndexOpsMixin.value_counts of 0          10325\n",
       "1          10325\n",
       "2          10325\n",
       "3          10325\n",
       "4           1075\n",
       "           ...  \n",
       "1586609    14359\n",
       "1586610    14359\n",
       "1586611    14359\n",
       "1586612    14359\n",
       "1586613    14359\n",
       "Name: brewery_id, Length: 1518478, dtype: int64>"
      ]
     },
     "execution_count": 18,
     "metadata": {},
     "output_type": "execute_result"
    }
   ],
   "source": [
    "df_review.brewery_id.value_counts"
   ]
  },
  {
   "cell_type": "code",
   "execution_count": 19,
   "id": "6fa6665d",
   "metadata": {},
   "outputs": [],
   "source": [
    "#  Distribution of brewery_id"
   ]
  },
  {
   "cell_type": "code",
   "execution_count": 20,
   "id": "845c2b58",
   "metadata": {},
   "outputs": [
    {
     "data": {
      "image/png": "[encoded data removed]",
      "text/plain": [
       "<Figure size 1400x600 with 2 Axes>"
      ]
     },
     "metadata": {},
     "output_type": "display_data"
    }
   ],
   "source": [
    "plt.figure(figsize=(14, 6))\n",
    "\n",
    "# Histogram\n",
    "plt.subplot(1, 2, 1)\n",
    "sns.histplot(df_review['brewery_id'], bins=30, kde=True, color='skyblue')\n",
    "plt.title(\"Distribution of Brewery IDs\")\n",
    "plt.xlabel(\"Brewery ID\")\n",
    "plt.ylabel(\"Frequency\")\n",
    "\n",
    "# Boxplot\n",
    "plt.subplot(1, 2, 2)\n",
    "sns.boxplot(x=df_review['brewery_id'], color='salmon')\n",
    "plt.title(\"Boxplot of Brewery IDs\")\n",
    "plt.xlabel(\"Brewery ID\")\n",
    "\n",
    "plt.tight_layout()\n",
    "plt.show()"
   ]
  },
  {
   "cell_type": "code",
   "execution_count": 21,
   "id": "a1b5344e",
   "metadata": {},
   "outputs": [],
   "source": [
    "# Unique Brewery Count"
   ]
  },
  {
   "cell_type": "code",
   "execution_count": 22,
   "id": "0f6844ca",
   "metadata": {},
   "outputs": [
    {
     "data": {
      "image/png": "[encoded data removed]",
      "text/plain": [
       "<Figure size 1000x600 with 1 Axes>"
      ]
     },
     "metadata": {},
     "output_type": "display_data"
    }
   ],
   "source": [
    "top_breweries = df_review['brewery_id'].value_counts().head(10)\n",
    "\n",
    "plt.figure(figsize=(10, 6))\n",
    "sns.barplot(x=top_breweries.index, y=top_breweries.values, palette='viridis')\n",
    "plt.title(\"Top 10 Breweries by Entry Count\")\n",
    "plt.xlabel(\"Brewery ID\")\n",
    "plt.ylabel(\"Number of Entries\")\n",
    "plt.xticks(rotation=45)\n",
    "plt.show()"
   ]
  },
  {
   "cell_type": "code",
   "execution_count": 23,
   "id": "db48eb7b",
   "metadata": {},
   "outputs": [],
   "source": [
    "# Binned brewery_id Categories"
   ]
  },
  {
   "cell_type": "code",
   "execution_count": 24,
   "id": "9d494722",
   "metadata": {},
   "outputs": [
    {
     "data": {
      "image/png": "[encoded data removed]",
      "text/plain": [
       "<Figure size 800x600 with 1 Axes>"
      ]
     },
     "metadata": {},
     "output_type": "display_data"
    }
   ],
   "source": [
    "df_review['brewery_id_bins'] = pd.qcut(df_review['brewery_id'], 4, labels=[\"Low\", \"Medium\", \"High\", \"Very High\"])\n",
    "\n",
    "plt.figure(figsize=(8, 6))\n",
    "sns.countplot(x='brewery_id_bins', data=df_review, palette='pastel')\n",
    "plt.title(\"Brewery ID Quartile Distribution\")\n",
    "plt.xlabel(\"Brewery ID Category\")\n",
    "plt.ylabel(\"Count\")\n",
    "plt.show()"
   ]
  },
  {
   "cell_type": "code",
   "execution_count": 25,
   "id": "ce087b52",
   "metadata": {},
   "outputs": [],
   "source": [
    "# Outlier Detection"
   ]
  },
  {
   "cell_type": "code",
   "execution_count": 26,
   "id": "4387e212",
   "metadata": {},
   "outputs": [
    {
     "data": {
      "image/png": "[encoded data removed]",
      "text/plain": [
       "<Figure size 1000x600 with 1 Axes>"
      ]
     },
     "metadata": {},
     "output_type": "display_data"
    }
   ],
   "source": [
    "plt.figure(figsize=(10, 6))\n",
    "sns.boxplot(x=df_review['brewery_id'], color='lightcoral')\n",
    "plt.title(\"Outliers in Brewery ID\")\n",
    "plt.xlabel(\"Brewery ID\")\n",
    "plt.show()"
   ]
  },
  {
   "cell_type": "markdown",
   "id": "37d0f0a1",
   "metadata": {},
   "source": [
    "These visualizations should provide insights into the distribution, frequency, and potential relationships associated with **brewery_id**."
   ]
  },
  {
   "cell_type": "markdown",
   "id": "41d5da3f",
   "metadata": {},
   "source": [
    "### 2) brewery_name"
   ]
  },
  {
   "cell_type": "code",
   "execution_count": 27,
   "id": "c280ef64",
   "metadata": {},
   "outputs": [
    {
     "data": {
      "text/plain": [
       "brewery_name\n",
       "Boston Beer Company (Samuel Adams)    38806\n",
       "Dogfish Head Brewery                  33790\n",
       "Stone Brewing Co.                     33009\n",
       "Sierra Nevada Brewing Co.             28632\n",
       "Bell's Brewery, Inc.                  24973\n",
       "Rogue Ales                            23446\n",
       "Founders Brewing Company              19951\n",
       "Victory Brewing Company               19401\n",
       "Lagunitas Brewing Company             16766\n",
       "Avery Brewing Company                 16042\n",
       "Name: count, dtype: int64"
      ]
     },
     "execution_count": 27,
     "metadata": {},
     "output_type": "execute_result"
    }
   ],
   "source": [
    "df_review.brewery_name.value_counts().head(10)"
   ]
  },
  {
   "cell_type": "code",
   "execution_count": 28,
   "id": "2b50de9b",
   "metadata": {},
   "outputs": [
    {
     "data": {
      "image/png": "[encoded data removed]",
      "text/plain": [
       "<Figure size 1000x600 with 1 Axes>"
      ]
     },
     "metadata": {},
     "output_type": "display_data"
    }
   ],
   "source": [
    "top_breweries = df_review.brewery_name.value_counts().head(10)\n",
    "\n",
    "plt.figure(figsize=(10, 6))\n",
    "sns.barplot(x=top_breweries.values, y=top_breweries.index, palette='coolwarm')\n",
    "plt.title(\"Top 10 Breweries by Beer Count\")\n",
    "plt.xlabel(\"Number of Beers\")\n",
    "plt.ylabel(\"Brewery Name\")\n",
    "plt.show()"
   ]
  },
  {
   "cell_type": "code",
   "execution_count": 29,
   "id": "f27239f8",
   "metadata": {},
   "outputs": [],
   "source": [
    "keywords = ['Brewery', 'Company', 'Co.', 'Inc.']\n",
    "\n",
    "for word in keywords:\n",
    "    df_review[f'has_{word}'] = df_review['brewery_name'].str.contains(word, case=False).astype(int)"
   ]
  },
  {
   "cell_type": "code",
   "execution_count": 30,
   "id": "13374970",
   "metadata": {},
   "outputs": [
    {
     "data": {
      "text/html": [
       "<div>\n",
       "<style scoped>\n",
       "    .dataframe tbody tr th:only-of-type {\n",
       "        vertical-align: middle;\n",
       "    }\n",
       "\n",
       "    .dataframe tbody tr th {\n",
       "        vertical-align: top;\n",
       "    }\n",
       "\n",
       "    .dataframe thead th {\n",
       "        text-align: right;\n",
       "    }\n",
       "</style>\n",
       "<table border=\"1\" class=\"dataframe\">\n",
       "  <thead>\n",
       "    <tr style=\"text-align: right;\">\n",
       "      <th></th>\n",
       "      <th>brewery_id</th>\n",
       "      <th>brewery_name</th>\n",
       "      <th>review_time</th>\n",
       "      <th>review_overall</th>\n",
       "      <th>review_aroma</th>\n",
       "      <th>review_appearance</th>\n",
       "      <th>review_profilename</th>\n",
       "      <th>beer_style</th>\n",
       "      <th>review_palate</th>\n",
       "      <th>review_taste</th>\n",
       "      <th>beer_name</th>\n",
       "      <th>beer_abv</th>\n",
       "      <th>beer_beerid</th>\n",
       "      <th>brewery_id_bins</th>\n",
       "      <th>has_Brewery</th>\n",
       "      <th>has_Company</th>\n",
       "      <th>has_Co.</th>\n",
       "      <th>has_Inc.</th>\n",
       "    </tr>\n",
       "  </thead>\n",
       "  <tbody>\n",
       "    <tr>\n",
       "      <th>0</th>\n",
       "      <td>10325</td>\n",
       "      <td>Vecchio Birraio</td>\n",
       "      <td>1234817823</td>\n",
       "      <td>1.500</td>\n",
       "      <td>2.000</td>\n",
       "      <td>2.500</td>\n",
       "      <td>stcules</td>\n",
       "      <td>Hefeweizen</td>\n",
       "      <td>1.500</td>\n",
       "      <td>1.500</td>\n",
       "      <td>Sausa Weizen</td>\n",
       "      <td>5.000</td>\n",
       "      <td>47986</td>\n",
       "      <td>Very High</td>\n",
       "      <td>0</td>\n",
       "      <td>0</td>\n",
       "      <td>0</td>\n",
       "      <td>0</td>\n",
       "    </tr>\n",
       "    <tr>\n",
       "      <th>1</th>\n",
       "      <td>10325</td>\n",
       "      <td>Vecchio Birraio</td>\n",
       "      <td>1235915097</td>\n",
       "      <td>3.000</td>\n",
       "      <td>2.500</td>\n",
       "      <td>3.000</td>\n",
       "      <td>stcules</td>\n",
       "      <td>English Strong Ale</td>\n",
       "      <td>3.000</td>\n",
       "      <td>3.000</td>\n",
       "      <td>Red Moon</td>\n",
       "      <td>6.200</td>\n",
       "      <td>48213</td>\n",
       "      <td>Very High</td>\n",
       "      <td>0</td>\n",
       "      <td>0</td>\n",
       "      <td>0</td>\n",
       "      <td>0</td>\n",
       "    </tr>\n",
       "    <tr>\n",
       "      <th>2</th>\n",
       "      <td>10325</td>\n",
       "      <td>Vecchio Birraio</td>\n",
       "      <td>1235916604</td>\n",
       "      <td>3.000</td>\n",
       "      <td>2.500</td>\n",
       "      <td>3.000</td>\n",
       "      <td>stcules</td>\n",
       "      <td>Foreign / Export Stout</td>\n",
       "      <td>3.000</td>\n",
       "      <td>3.000</td>\n",
       "      <td>Black Horse Black Beer</td>\n",
       "      <td>6.500</td>\n",
       "      <td>48215</td>\n",
       "      <td>Very High</td>\n",
       "      <td>0</td>\n",
       "      <td>0</td>\n",
       "      <td>0</td>\n",
       "      <td>0</td>\n",
       "    </tr>\n",
       "    <tr>\n",
       "      <th>3</th>\n",
       "      <td>10325</td>\n",
       "      <td>Vecchio Birraio</td>\n",
       "      <td>1234725145</td>\n",
       "      <td>3.000</td>\n",
       "      <td>3.000</td>\n",
       "      <td>3.500</td>\n",
       "      <td>stcules</td>\n",
       "      <td>German Pilsener</td>\n",
       "      <td>2.500</td>\n",
       "      <td>3.000</td>\n",
       "      <td>Sausa Pils</td>\n",
       "      <td>5.000</td>\n",
       "      <td>47969</td>\n",
       "      <td>Very High</td>\n",
       "      <td>0</td>\n",
       "      <td>0</td>\n",
       "      <td>0</td>\n",
       "      <td>0</td>\n",
       "    </tr>\n",
       "    <tr>\n",
       "      <th>4</th>\n",
       "      <td>1075</td>\n",
       "      <td>Caldera Brewing Company</td>\n",
       "      <td>1293735206</td>\n",
       "      <td>4.000</td>\n",
       "      <td>4.500</td>\n",
       "      <td>4.000</td>\n",
       "      <td>johnmichaelsen</td>\n",
       "      <td>American Double / Imperial IPA</td>\n",
       "      <td>4.000</td>\n",
       "      <td>4.500</td>\n",
       "      <td>Cauldron DIPA</td>\n",
       "      <td>7.700</td>\n",
       "      <td>64883</td>\n",
       "      <td>High</td>\n",
       "      <td>0</td>\n",
       "      <td>1</td>\n",
       "      <td>1</td>\n",
       "      <td>0</td>\n",
       "    </tr>\n",
       "  </tbody>\n",
       "</table>\n",
       "</div>"
      ],
      "text/plain": [
       "   brewery_id             brewery_name  review_time  review_overall  \\\n",
       "0       10325          Vecchio Birraio   1234817823           1.500   \n",
       "1       10325          Vecchio Birraio   1235915097           3.000   \n",
       "2       10325          Vecchio Birraio   1235916604           3.000   \n",
       "3       10325          Vecchio Birraio   1234725145           3.000   \n",
       "4        1075  Caldera Brewing Company   1293735206           4.000   \n",
       "\n",
       "   review_aroma  review_appearance review_profilename  \\\n",
       "0         2.000              2.500            stcules   \n",
       "1         2.500              3.000            stcules   \n",
       "2         2.500              3.000            stcules   \n",
       "3         3.000              3.500            stcules   \n",
       "4         4.500              4.000     johnmichaelsen   \n",
       "\n",
       "                       beer_style  review_palate  review_taste  \\\n",
       "0                      Hefeweizen          1.500         1.500   \n",
       "1              English Strong Ale          3.000         3.000   \n",
       "2          Foreign / Export Stout          3.000         3.000   \n",
       "3                 German Pilsener          2.500         3.000   \n",
       "4  American Double / Imperial IPA          4.000         4.500   \n",
       "\n",
       "                beer_name  beer_abv  beer_beerid brewery_id_bins  has_Brewery  \\\n",
       "0            Sausa Weizen     5.000        47986       Very High            0   \n",
       "1                Red Moon     6.200        48213       Very High            0   \n",
       "2  Black Horse Black Beer     6.500        48215       Very High            0   \n",
       "3              Sausa Pils     5.000        47969       Very High            0   \n",
       "4           Cauldron DIPA     7.700        64883            High            0   \n",
       "\n",
       "   has_Company  has_Co.  has_Inc.  \n",
       "0            0        0         0  \n",
       "1            0        0         0  \n",
       "2            0        0         0  \n",
       "3            0        0         0  \n",
       "4            1        1         0  "
      ]
     },
     "execution_count": 30,
     "metadata": {},
     "output_type": "execute_result"
    }
   ],
   "source": [
    "df_review.head()"
   ]
  },
  {
   "cell_type": "code",
   "execution_count": 31,
   "id": "b28422d3",
   "metadata": {},
   "outputs": [
    {
     "name": "stdout",
     "output_type": "stream",
     "text": [
      "Total for 'Brewery': 288544\n",
      "Total for 'Company': 517277\n",
      "Total for 'Co.': 788113\n",
      "Total for 'Inc.': 39190\n"
     ]
    }
   ],
   "source": [
    "keywords = ['Brewery', 'Company', 'Co.', 'Inc.']\n",
    "criteria_totals = {}\n",
    "\n",
    "\n",
    "for word in keywords:\n",
    "    criteria_totals[word] = df_review[f'has_{word}'].sum()\n",
    "    \n",
    "\n",
    "for key, value in criteria_totals.items():\n",
    "    print(f\"Total for '{key}': {value}\")"
   ]
  },
  {
   "cell_type": "code",
   "execution_count": 32,
   "id": "e688c4f3",
   "metadata": {},
   "outputs": [
    {
     "data": {
      "image/png": "[encoded data removed]",
      "text/plain": [
       "<Figure size 800x600 with 1 Axes>"
      ]
     },
     "metadata": {},
     "output_type": "display_data"
    }
   ],
   "source": [
    "keyword_counts = df_review[[f'has_{word}' for word in keywords]].sum().sort_values()\n",
    "\n",
    "plt.figure(figsize=(8, 6))\n",
    "sns.barplot(x=keyword_counts.values, y=keyword_counts.index, palette='viridis')\n",
    "plt.title(\"Frequency of Keywords in Brewery Names\")\n",
    "plt.xlabel(\"Count\")\n",
    "plt.ylabel(\"Keyword\")\n",
    "plt.show()"
   ]
  },
  {
   "cell_type": "markdown",
   "id": "de9de63e",
   "metadata": {},
   "source": [
    "### 3) review_time"
   ]
  },
  {
   "cell_type": "code",
   "execution_count": 20,
   "id": "acaabc27",
   "metadata": {},
   "outputs": [
    {
     "data": {
      "text/plain": [
       "0    1234817823\n",
       "1    1235915097\n",
       "2    1235916604\n",
       "3    1234725145\n",
       "4    1293735206\n",
       "Name: review_time, dtype: int64"
      ]
     },
     "execution_count": 20,
     "metadata": {},
     "output_type": "execute_result"
    }
   ],
   "source": [
    "df_review['review_time'].head()"
   ]
  },
  {
   "cell_type": "code",
   "execution_count": 21,
   "id": "bd700945",
   "metadata": {},
   "outputs": [],
   "source": [
    "df_review['datetime'] = pd.to_datetime(df_review['review_time'], unit='s')"
   ]
  },
  {
   "cell_type": "code",
   "execution_count": 22,
   "id": "1908b89d",
   "metadata": {},
   "outputs": [],
   "source": [
    "df_review['review_year'] = df_review['datetime'].dt.year"
   ]
  },
  {
   "cell_type": "code",
   "execution_count": 24,
   "id": "028dc398",
   "metadata": {},
   "outputs": [],
   "source": [
    "df_review.rename(columns={'datetime' : 'review_datetime'}, inplace=True)"
   ]
  },
  {
   "cell_type": "code",
   "execution_count": 26,
   "id": "6e689fb7",
   "metadata": {},
   "outputs": [],
   "source": [
    "df_review = df_review.drop('review_time', axis=1)"
   ]
  },
  {
   "cell_type": "code",
   "execution_count": 27,
   "id": "3f28dacb",
   "metadata": {},
   "outputs": [
    {
     "data": {
      "text/html": [
       "<div>\n",
       "<style scoped>\n",
       "    .dataframe tbody tr th:only-of-type {\n",
       "        vertical-align: middle;\n",
       "    }\n",
       "\n",
       "    .dataframe tbody tr th {\n",
       "        vertical-align: top;\n",
       "    }\n",
       "\n",
       "    .dataframe thead th {\n",
       "        text-align: right;\n",
       "    }\n",
       "</style>\n",
       "<table border=\"1\" class=\"dataframe\">\n",
       "  <thead>\n",
       "    <tr style=\"text-align: right;\">\n",
       "      <th></th>\n",
       "      <th>brewery_id</th>\n",
       "      <th>brewery_name</th>\n",
       "      <th>review_overall</th>\n",
       "      <th>review_aroma</th>\n",
       "      <th>review_appearance</th>\n",
       "      <th>review_profilename</th>\n",
       "      <th>beer_style</th>\n",
       "      <th>review_palate</th>\n",
       "      <th>review_taste</th>\n",
       "      <th>beer_name</th>\n",
       "      <th>beer_abv</th>\n",
       "      <th>beer_beerid</th>\n",
       "      <th>review_datetime</th>\n",
       "      <th>review_year</th>\n",
       "    </tr>\n",
       "  </thead>\n",
       "  <tbody>\n",
       "    <tr>\n",
       "      <th>0</th>\n",
       "      <td>10325</td>\n",
       "      <td>Vecchio Birraio</td>\n",
       "      <td>1.5</td>\n",
       "      <td>2.0</td>\n",
       "      <td>2.5</td>\n",
       "      <td>stcules</td>\n",
       "      <td>Hefeweizen</td>\n",
       "      <td>1.5</td>\n",
       "      <td>1.5</td>\n",
       "      <td>Sausa Weizen</td>\n",
       "      <td>5.0</td>\n",
       "      <td>47986</td>\n",
       "      <td>2009-02-16 20:57:03</td>\n",
       "      <td>2009</td>\n",
       "    </tr>\n",
       "    <tr>\n",
       "      <th>1</th>\n",
       "      <td>10325</td>\n",
       "      <td>Vecchio Birraio</td>\n",
       "      <td>3.0</td>\n",
       "      <td>2.5</td>\n",
       "      <td>3.0</td>\n",
       "      <td>stcules</td>\n",
       "      <td>English Strong Ale</td>\n",
       "      <td>3.0</td>\n",
       "      <td>3.0</td>\n",
       "      <td>Red Moon</td>\n",
       "      <td>6.2</td>\n",
       "      <td>48213</td>\n",
       "      <td>2009-03-01 13:44:57</td>\n",
       "      <td>2009</td>\n",
       "    </tr>\n",
       "    <tr>\n",
       "      <th>2</th>\n",
       "      <td>10325</td>\n",
       "      <td>Vecchio Birraio</td>\n",
       "      <td>3.0</td>\n",
       "      <td>2.5</td>\n",
       "      <td>3.0</td>\n",
       "      <td>stcules</td>\n",
       "      <td>Foreign / Export Stout</td>\n",
       "      <td>3.0</td>\n",
       "      <td>3.0</td>\n",
       "      <td>Black Horse Black Beer</td>\n",
       "      <td>6.5</td>\n",
       "      <td>48215</td>\n",
       "      <td>2009-03-01 14:10:04</td>\n",
       "      <td>2009</td>\n",
       "    </tr>\n",
       "    <tr>\n",
       "      <th>3</th>\n",
       "      <td>10325</td>\n",
       "      <td>Vecchio Birraio</td>\n",
       "      <td>3.0</td>\n",
       "      <td>3.0</td>\n",
       "      <td>3.5</td>\n",
       "      <td>stcules</td>\n",
       "      <td>German Pilsener</td>\n",
       "      <td>2.5</td>\n",
       "      <td>3.0</td>\n",
       "      <td>Sausa Pils</td>\n",
       "      <td>5.0</td>\n",
       "      <td>47969</td>\n",
       "      <td>2009-02-15 19:12:25</td>\n",
       "      <td>2009</td>\n",
       "    </tr>\n",
       "    <tr>\n",
       "      <th>4</th>\n",
       "      <td>1075</td>\n",
       "      <td>Caldera Brewing Company</td>\n",
       "      <td>4.0</td>\n",
       "      <td>4.5</td>\n",
       "      <td>4.0</td>\n",
       "      <td>johnmichaelsen</td>\n",
       "      <td>American Double / Imperial IPA</td>\n",
       "      <td>4.0</td>\n",
       "      <td>4.5</td>\n",
       "      <td>Cauldron DIPA</td>\n",
       "      <td>7.7</td>\n",
       "      <td>64883</td>\n",
       "      <td>2010-12-30 18:53:26</td>\n",
       "      <td>2010</td>\n",
       "    </tr>\n",
       "  </tbody>\n",
       "</table>\n",
       "</div>"
      ],
      "text/plain": [
       "   brewery_id             brewery_name  review_overall  review_aroma  \\\n",
       "0       10325          Vecchio Birraio             1.5           2.0   \n",
       "1       10325          Vecchio Birraio             3.0           2.5   \n",
       "2       10325          Vecchio Birraio             3.0           2.5   \n",
       "3       10325          Vecchio Birraio             3.0           3.0   \n",
       "4        1075  Caldera Brewing Company             4.0           4.5   \n",
       "\n",
       "   review_appearance review_profilename                      beer_style  \\\n",
       "0                2.5            stcules                      Hefeweizen   \n",
       "1                3.0            stcules              English Strong Ale   \n",
       "2                3.0            stcules          Foreign / Export Stout   \n",
       "3                3.5            stcules                 German Pilsener   \n",
       "4                4.0     johnmichaelsen  American Double / Imperial IPA   \n",
       "\n",
       "   review_palate  review_taste               beer_name  beer_abv  beer_beerid  \\\n",
       "0            1.5           1.5            Sausa Weizen       5.0        47986   \n",
       "1            3.0           3.0                Red Moon       6.2        48213   \n",
       "2            3.0           3.0  Black Horse Black Beer       6.5        48215   \n",
       "3            2.5           3.0              Sausa Pils       5.0        47969   \n",
       "4            4.0           4.5           Cauldron DIPA       7.7        64883   \n",
       "\n",
       "      review_datetime  review_year  \n",
       "0 2009-02-16 20:57:03         2009  \n",
       "1 2009-03-01 13:44:57         2009  \n",
       "2 2009-03-01 14:10:04         2009  \n",
       "3 2009-02-15 19:12:25         2009  \n",
       "4 2010-12-30 18:53:26         2010  "
      ]
     },
     "execution_count": 27,
     "metadata": {},
     "output_type": "execute_result"
    }
   ],
   "source": [
    "df_review.head()"
   ]
  },
  {
   "cell_type": "markdown",
   "id": "2292965f",
   "metadata": {},
   "source": [
    "### 4) review_overall"
   ]
  },
  {
   "cell_type": "code",
   "execution_count": 15,
   "id": "3a3987f5",
   "metadata": {},
   "outputs": [
    {
     "data": {
      "text/plain": [
       "review_overall\n",
       "4.0    559790\n",
       "4.5    314303\n",
       "3.5    286901\n",
       "3.0    155840\n",
       "5.0     88997\n",
       "2.5     54660\n",
       "2.0     35737\n",
       "1.5     12032\n",
       "1.0     10211\n",
       "0.0         7\n",
       "Name: count, dtype: int64"
      ]
     },
     "execution_count": 15,
     "metadata": {},
     "output_type": "execute_result"
    }
   ],
   "source": [
    "df_review.review_overall.value_counts()"
   ]
  },
  {
   "cell_type": "markdown",
   "id": "e34328e3",
   "metadata": {},
   "source": [
    "* It is necessary to check if the review range is between 0 and 5 on **review_overall**. The number of reviews from 1 to 5 is much more than the reviews starting from 0. There might be some errors by reviewers. In this case, I think it would be better to drop reviews with 0 values in **review_overall**."
   ]
  },
  {
   "cell_type": "markdown",
   "id": "5091b517",
   "metadata": {},
   "source": [
    "* Additionally, I noticed that the 7 rows with 0 **review_overall** have 0 **review_appearance** as well.   "
   ]
  },
  {
   "cell_type": "code",
   "execution_count": 16,
   "id": "bd4e88c7",
   "metadata": {},
   "outputs": [],
   "source": [
    "df_review = df_review[df_review['review_overall'] != 0.0]"
   ]
  },
  {
   "cell_type": "code",
   "execution_count": 17,
   "id": "6bcb3531",
   "metadata": {},
   "outputs": [
    {
     "data": {
      "text/html": [
       "<div>\n",
       "<style scoped>\n",
       "    .dataframe tbody tr th:only-of-type {\n",
       "        vertical-align: middle;\n",
       "    }\n",
       "\n",
       "    .dataframe tbody tr th {\n",
       "        vertical-align: top;\n",
       "    }\n",
       "\n",
       "    .dataframe thead th {\n",
       "        text-align: right;\n",
       "    }\n",
       "</style>\n",
       "<table border=\"1\" class=\"dataframe\">\n",
       "  <thead>\n",
       "    <tr style=\"text-align: right;\">\n",
       "      <th></th>\n",
       "      <th>brewery_id</th>\n",
       "      <th>brewery_name</th>\n",
       "      <th>review_time</th>\n",
       "      <th>review_overall</th>\n",
       "      <th>review_aroma</th>\n",
       "      <th>review_appearance</th>\n",
       "      <th>review_profilename</th>\n",
       "      <th>beer_style</th>\n",
       "      <th>review_palate</th>\n",
       "      <th>review_taste</th>\n",
       "      <th>beer_name</th>\n",
       "      <th>beer_abv</th>\n",
       "      <th>beer_beerid</th>\n",
       "    </tr>\n",
       "  </thead>\n",
       "  <tbody>\n",
       "  </tbody>\n",
       "</table>\n",
       "</div>"
      ],
      "text/plain": [
       "Empty DataFrame\n",
       "Columns: [brewery_id, brewery_name, review_time, review_overall, review_aroma, review_appearance, review_profilename, beer_style, review_palate, review_taste, beer_name, beer_abv, beer_beerid]\n",
       "Index: []"
      ]
     },
     "execution_count": 17,
     "metadata": {},
     "output_type": "execute_result"
    }
   ],
   "source": [
    "df_review[df_review['review_overall'] == 0.0]"
   ]
  },
  {
   "cell_type": "code",
   "execution_count": 18,
   "id": "f9c8cdbc",
   "metadata": {},
   "outputs": [
    {
     "data": {
      "text/html": [
       "<div>\n",
       "<style scoped>\n",
       "    .dataframe tbody tr th:only-of-type {\n",
       "        vertical-align: middle;\n",
       "    }\n",
       "\n",
       "    .dataframe tbody tr th {\n",
       "        vertical-align: top;\n",
       "    }\n",
       "\n",
       "    .dataframe thead th {\n",
       "        text-align: right;\n",
       "    }\n",
       "</style>\n",
       "<table border=\"1\" class=\"dataframe\">\n",
       "  <thead>\n",
       "    <tr style=\"text-align: right;\">\n",
       "      <th></th>\n",
       "      <th>brewery_id</th>\n",
       "      <th>brewery_name</th>\n",
       "      <th>review_time</th>\n",
       "      <th>review_overall</th>\n",
       "      <th>review_aroma</th>\n",
       "      <th>review_appearance</th>\n",
       "      <th>review_profilename</th>\n",
       "      <th>beer_style</th>\n",
       "      <th>review_palate</th>\n",
       "      <th>review_taste</th>\n",
       "      <th>beer_name</th>\n",
       "      <th>beer_abv</th>\n",
       "      <th>beer_beerid</th>\n",
       "    </tr>\n",
       "  </thead>\n",
       "  <tbody>\n",
       "  </tbody>\n",
       "</table>\n",
       "</div>"
      ],
      "text/plain": [
       "Empty DataFrame\n",
       "Columns: [brewery_id, brewery_name, review_time, review_overall, review_aroma, review_appearance, review_profilename, beer_style, review_palate, review_taste, beer_name, beer_abv, beer_beerid]\n",
       "Index: []"
      ]
     },
     "execution_count": 18,
     "metadata": {},
     "output_type": "execute_result"
    }
   ],
   "source": [
    "df_review[df_review['review_appearance'] == 0.0]"
   ]
  },
  {
   "cell_type": "markdown",
   "id": "a3e3ace3",
   "metadata": {},
   "source": [
    "* There is no more **review_overall** and **review_appearance** with 0."
   ]
  },
  {
   "cell_type": "markdown",
   "id": "4ed089ae",
   "metadata": {},
   "source": [
    "### 5) review_aroma"
   ]
  },
  {
   "cell_type": "markdown",
   "id": "3a719d34",
   "metadata": {},
   "source": [
    "### 6) review_appearance"
   ]
  },
  {
   "cell_type": "markdown",
   "id": "6064ec97",
   "metadata": {},
   "source": [
    "### 7) review_profilename"
   ]
  },
  {
   "cell_type": "markdown",
   "id": "47d357ae",
   "metadata": {},
   "source": [
    "### 8) beer_style"
   ]
  },
  {
   "cell_type": "markdown",
   "id": "4e1e6c74",
   "metadata": {},
   "source": [
    "### 9) review_palate"
   ]
  },
  {
   "cell_type": "markdown",
   "id": "1e926bee",
   "metadata": {},
   "source": [
    "### 10) review_taste"
   ]
  },
  {
   "cell_type": "markdown",
   "id": "c5046722",
   "metadata": {},
   "source": [
    "### 11) beer_name"
   ]
  },
  {
   "cell_type": "markdown",
   "id": "fb2842a3",
   "metadata": {},
   "source": [
    "### 12) beer_abv"
   ]
  },
  {
   "cell_type": "markdown",
   "id": "0a8e0b66",
   "metadata": {},
   "source": [
    "### 13) beer_beerid"
   ]
  },
  {
   "cell_type": "code",
   "execution_count": 11,
   "id": "38fad4d0",
   "metadata": {},
   "outputs": [],
   "source": [
    "df_review.rename(columns={'beer_beerid' : 'beer_id'}, inplace=True)"
   ]
  },
  {
   "cell_type": "markdown",
   "id": "3b0331c4",
   "metadata": {},
   "source": [
    "* To have similar column-name-structure, I decided to rename **beer_beerid** to **beer_id**."
   ]
  },
  {
   "cell_type": "code",
   "execution_count": null,
   "id": "9af8929d",
   "metadata": {},
   "outputs": [],
   "source": [
    "df_review.columns"
   ]
  },
  {
   "cell_type": "code",
   "execution_count": null,
   "id": "3797d087",
   "metadata": {},
   "outputs": [],
   "source": [
    "columns = \n",
    "\n",
    "df_review = df_review[columns]"
   ]
  },
  {
   "cell_type": "markdown",
   "id": "d0135087",
   "metadata": {},
   "source": [
    "## <p style=\"background-color:#33475b; font-family:newtimeroman; color:#FFF9ED; font-size:150%; text-align:center; border-radius:10px 10px;\">III. Questions & Analysis</p>\n",
    "\n",
    "<a id=\"3\"></a>"
   ]
  },
  {
   "cell_type": "markdown",
   "id": "befa9c96",
   "metadata": {},
   "source": [
    "## 1. Which brewery produces the strongest beers by abv?"
   ]
  },
  {
   "cell_type": "code",
   "execution_count": 23,
   "id": "ca2178b4",
   "metadata": {},
   "outputs": [
    {
     "data": {
      "text/plain": [
       "Index(['brewery_id', 'brewery_name', 'review_time', 'review_overall',\n",
       "       'review_aroma', 'review_appearance', 'review_profilename', 'beer_style',\n",
       "       'review_palate', 'review_taste', 'beer_name', 'beer_abv', 'beer_id'],\n",
       "      dtype='object')"
      ]
     },
     "execution_count": 23,
     "metadata": {},
     "output_type": "execute_result"
    }
   ],
   "source": [
    "df_review.columns"
   ]
  },
  {
   "cell_type": "code",
   "execution_count": 24,
   "id": "d25fa31e",
   "metadata": {},
   "outputs": [
    {
     "data": {
      "text/html": [
       "<div>\n",
       "<style scoped>\n",
       "    .dataframe tbody tr th:only-of-type {\n",
       "        vertical-align: middle;\n",
       "    }\n",
       "\n",
       "    .dataframe tbody tr th {\n",
       "        vertical-align: top;\n",
       "    }\n",
       "\n",
       "    .dataframe thead th {\n",
       "        text-align: right;\n",
       "    }\n",
       "</style>\n",
       "<table border=\"1\" class=\"dataframe\">\n",
       "  <thead>\n",
       "    <tr style=\"text-align: right;\">\n",
       "      <th></th>\n",
       "      <th>brewery_id</th>\n",
       "      <th>brewery_name</th>\n",
       "      <th>review_overall</th>\n",
       "      <th>review_aroma</th>\n",
       "      <th>review_appearance</th>\n",
       "      <th>review_profilename</th>\n",
       "      <th>review_palate</th>\n",
       "      <th>review_taste</th>\n",
       "      <th>beer_name</th>\n",
       "      <th>beer_abv</th>\n",
       "    </tr>\n",
       "  </thead>\n",
       "  <tbody>\n",
       "    <tr>\n",
       "      <th>12919</th>\n",
       "      <td>6513</td>\n",
       "      <td>Schorschbräu</td>\n",
       "      <td>4.0</td>\n",
       "      <td>4.0</td>\n",
       "      <td>4.0</td>\n",
       "      <td>kappldav123</td>\n",
       "      <td>4.0</td>\n",
       "      <td>3.5</td>\n",
       "      <td>Schorschbräu Schorschbock 57%</td>\n",
       "      <td>57.70</td>\n",
       "    </tr>\n",
       "    <tr>\n",
       "      <th>12939</th>\n",
       "      <td>6513</td>\n",
       "      <td>Schorschbräu</td>\n",
       "      <td>4.0</td>\n",
       "      <td>4.0</td>\n",
       "      <td>3.5</td>\n",
       "      <td>Sunnanek</td>\n",
       "      <td>4.0</td>\n",
       "      <td>4.0</td>\n",
       "      <td>Schorschbräu Schorschbock 43%</td>\n",
       "      <td>43.00</td>\n",
       "    </tr>\n",
       "    <tr>\n",
       "      <th>12940</th>\n",
       "      <td>6513</td>\n",
       "      <td>Schorschbräu</td>\n",
       "      <td>3.5</td>\n",
       "      <td>4.0</td>\n",
       "      <td>4.0</td>\n",
       "      <td>kappldav123</td>\n",
       "      <td>4.0</td>\n",
       "      <td>4.5</td>\n",
       "      <td>Schorschbräu Schorschbock 43%</td>\n",
       "      <td>43.00</td>\n",
       "    </tr>\n",
       "    <tr>\n",
       "      <th>746399</th>\n",
       "      <td>16315</td>\n",
       "      <td>BrewDog</td>\n",
       "      <td>2.5</td>\n",
       "      <td>5.0</td>\n",
       "      <td>4.0</td>\n",
       "      <td>Gobzilla</td>\n",
       "      <td>4.0</td>\n",
       "      <td>4.5</td>\n",
       "      <td>Sink The Bismarck!</td>\n",
       "      <td>41.00</td>\n",
       "    </tr>\n",
       "    <tr>\n",
       "      <th>746376</th>\n",
       "      <td>16315</td>\n",
       "      <td>BrewDog</td>\n",
       "      <td>2.5</td>\n",
       "      <td>5.0</td>\n",
       "      <td>4.5</td>\n",
       "      <td>lwootton</td>\n",
       "      <td>4.5</td>\n",
       "      <td>3.5</td>\n",
       "      <td>Sink The Bismarck!</td>\n",
       "      <td>41.00</td>\n",
       "    </tr>\n",
       "    <tr>\n",
       "      <th>...</th>\n",
       "      <td>...</td>\n",
       "      <td>...</td>\n",
       "      <td>...</td>\n",
       "      <td>...</td>\n",
       "      <td>...</td>\n",
       "      <td>...</td>\n",
       "      <td>...</td>\n",
       "      <td>...</td>\n",
       "      <td>...</td>\n",
       "      <td>...</td>\n",
       "    </tr>\n",
       "    <tr>\n",
       "      <th>795875</th>\n",
       "      <td>187</td>\n",
       "      <td>Brouwerij Lindemans</td>\n",
       "      <td>5.0</td>\n",
       "      <td>2.5</td>\n",
       "      <td>4.5</td>\n",
       "      <td>Floydster</td>\n",
       "      <td>3.0</td>\n",
       "      <td>3.5</td>\n",
       "      <td>Lindemans Chello</td>\n",
       "      <td>0.01</td>\n",
       "    </tr>\n",
       "    <tr>\n",
       "      <th>274913</th>\n",
       "      <td>2444</td>\n",
       "      <td>Companhia Cervejaria Brahma</td>\n",
       "      <td>1.5</td>\n",
       "      <td>1.5</td>\n",
       "      <td>2.0</td>\n",
       "      <td>schiaveto</td>\n",
       "      <td>1.5</td>\n",
       "      <td>1.0</td>\n",
       "      <td>Liber</td>\n",
       "      <td>0.01</td>\n",
       "    </tr>\n",
       "    <tr>\n",
       "      <th>274912</th>\n",
       "      <td>2444</td>\n",
       "      <td>Companhia Cervejaria Brahma</td>\n",
       "      <td>1.0</td>\n",
       "      <td>1.0</td>\n",
       "      <td>3.0</td>\n",
       "      <td>DoubleJ</td>\n",
       "      <td>2.0</td>\n",
       "      <td>1.0</td>\n",
       "      <td>Liber</td>\n",
       "      <td>0.01</td>\n",
       "    </tr>\n",
       "    <tr>\n",
       "      <th>795876</th>\n",
       "      <td>187</td>\n",
       "      <td>Brouwerij Lindemans</td>\n",
       "      <td>2.5</td>\n",
       "      <td>3.5</td>\n",
       "      <td>4.0</td>\n",
       "      <td>RblWthACoz</td>\n",
       "      <td>3.5</td>\n",
       "      <td>3.0</td>\n",
       "      <td>Lindemans Chello</td>\n",
       "      <td>0.01</td>\n",
       "    </tr>\n",
       "    <tr>\n",
       "      <th>274911</th>\n",
       "      <td>2444</td>\n",
       "      <td>Companhia Cervejaria Brahma</td>\n",
       "      <td>1.0</td>\n",
       "      <td>1.5</td>\n",
       "      <td>3.0</td>\n",
       "      <td>mdfb79</td>\n",
       "      <td>1.5</td>\n",
       "      <td>1.0</td>\n",
       "      <td>Liber</td>\n",
       "      <td>0.01</td>\n",
       "    </tr>\n",
       "  </tbody>\n",
       "</table>\n",
       "<p>1518471 rows × 10 columns</p>\n",
       "</div>"
      ],
      "text/plain": [
       "        brewery_id                 brewery_name  review_overall  review_aroma  \\\n",
       "12919         6513                 Schorschbräu             4.0           4.0   \n",
       "12939         6513                 Schorschbräu             4.0           4.0   \n",
       "12940         6513                 Schorschbräu             3.5           4.0   \n",
       "746399       16315                      BrewDog             2.5           5.0   \n",
       "746376       16315                      BrewDog             2.5           5.0   \n",
       "...            ...                          ...             ...           ...   \n",
       "795875         187          Brouwerij Lindemans             5.0           2.5   \n",
       "274913        2444  Companhia Cervejaria Brahma             1.5           1.5   \n",
       "274912        2444  Companhia Cervejaria Brahma             1.0           1.0   \n",
       "795876         187          Brouwerij Lindemans             2.5           3.5   \n",
       "274911        2444  Companhia Cervejaria Brahma             1.0           1.5   \n",
       "\n",
       "        review_appearance review_profilename  review_palate  review_taste  \\\n",
       "12919                 4.0        kappldav123            4.0           3.5   \n",
       "12939                 3.5           Sunnanek            4.0           4.0   \n",
       "12940                 4.0        kappldav123            4.0           4.5   \n",
       "746399                4.0           Gobzilla            4.0           4.5   \n",
       "746376                4.5           lwootton            4.5           3.5   \n",
       "...                   ...                ...            ...           ...   \n",
       "795875                4.5          Floydster            3.0           3.5   \n",
       "274913                2.0          schiaveto            1.5           1.0   \n",
       "274912                3.0            DoubleJ            2.0           1.0   \n",
       "795876                4.0         RblWthACoz            3.5           3.0   \n",
       "274911                3.0             mdfb79            1.5           1.0   \n",
       "\n",
       "                            beer_name  beer_abv  \n",
       "12919   Schorschbräu Schorschbock 57%     57.70  \n",
       "12939   Schorschbräu Schorschbock 43%     43.00  \n",
       "12940   Schorschbräu Schorschbock 43%     43.00  \n",
       "746399             Sink The Bismarck!     41.00  \n",
       "746376             Sink The Bismarck!     41.00  \n",
       "...                               ...       ...  \n",
       "795875               Lindemans Chello      0.01  \n",
       "274913                          Liber      0.01  \n",
       "274912                          Liber      0.01  \n",
       "795876               Lindemans Chello      0.01  \n",
       "274911                          Liber      0.01  \n",
       "\n",
       "[1518471 rows x 10 columns]"
      ]
     },
     "execution_count": 24,
     "metadata": {},
     "output_type": "execute_result"
    }
   ],
   "source": [
    "df_review[['brewery_id', \n",
    "           'brewery_name', \n",
    "           'review_overall',\n",
    "           'review_aroma', \n",
    "           'review_appearance', \n",
    "           'review_profilename',\n",
    "           'review_palate', \n",
    "           'review_taste', \n",
    "           'beer_name', \n",
    "           'beer_abv']].sort_values('beer_abv', ascending=False)"
   ]
  },
  {
   "cell_type": "code",
   "execution_count": 25,
   "id": "87443257",
   "metadata": {},
   "outputs": [
    {
     "data": {
      "text/html": [
       "<div>\n",
       "<style scoped>\n",
       "    .dataframe tbody tr th:only-of-type {\n",
       "        vertical-align: middle;\n",
       "    }\n",
       "\n",
       "    .dataframe tbody tr th {\n",
       "        vertical-align: top;\n",
       "    }\n",
       "\n",
       "    .dataframe thead th {\n",
       "        text-align: right;\n",
       "    }\n",
       "</style>\n",
       "<table border=\"1\" class=\"dataframe\">\n",
       "  <thead>\n",
       "    <tr style=\"text-align: right;\">\n",
       "      <th></th>\n",
       "      <th>brewery_id</th>\n",
       "      <th>brewery_name</th>\n",
       "      <th>review_overall</th>\n",
       "      <th>beer_name</th>\n",
       "      <th>beer_abv</th>\n",
       "    </tr>\n",
       "  </thead>\n",
       "  <tbody>\n",
       "    <tr>\n",
       "      <th>12919</th>\n",
       "      <td>6513</td>\n",
       "      <td>Schorschbräu</td>\n",
       "      <td>4.0</td>\n",
       "      <td>Schorschbräu Schorschbock 57%</td>\n",
       "      <td>57.7</td>\n",
       "    </tr>\n",
       "    <tr>\n",
       "      <th>12939</th>\n",
       "      <td>6513</td>\n",
       "      <td>Schorschbräu</td>\n",
       "      <td>4.0</td>\n",
       "      <td>Schorschbräu Schorschbock 43%</td>\n",
       "      <td>43.0</td>\n",
       "    </tr>\n",
       "    <tr>\n",
       "      <th>12940</th>\n",
       "      <td>6513</td>\n",
       "      <td>Schorschbräu</td>\n",
       "      <td>3.5</td>\n",
       "      <td>Schorschbräu Schorschbock 43%</td>\n",
       "      <td>43.0</td>\n",
       "    </tr>\n",
       "    <tr>\n",
       "      <th>746399</th>\n",
       "      <td>16315</td>\n",
       "      <td>BrewDog</td>\n",
       "      <td>2.5</td>\n",
       "      <td>Sink The Bismarck!</td>\n",
       "      <td>41.0</td>\n",
       "    </tr>\n",
       "    <tr>\n",
       "      <th>746376</th>\n",
       "      <td>16315</td>\n",
       "      <td>BrewDog</td>\n",
       "      <td>2.5</td>\n",
       "      <td>Sink The Bismarck!</td>\n",
       "      <td>41.0</td>\n",
       "    </tr>\n",
       "    <tr>\n",
       "      <th>746365</th>\n",
       "      <td>16315</td>\n",
       "      <td>BrewDog</td>\n",
       "      <td>5.0</td>\n",
       "      <td>Sink The Bismarck!</td>\n",
       "      <td>41.0</td>\n",
       "    </tr>\n",
       "    <tr>\n",
       "      <th>746366</th>\n",
       "      <td>16315</td>\n",
       "      <td>BrewDog</td>\n",
       "      <td>3.5</td>\n",
       "      <td>Sink The Bismarck!</td>\n",
       "      <td>41.0</td>\n",
       "    </tr>\n",
       "    <tr>\n",
       "      <th>746367</th>\n",
       "      <td>16315</td>\n",
       "      <td>BrewDog</td>\n",
       "      <td>3.0</td>\n",
       "      <td>Sink The Bismarck!</td>\n",
       "      <td>41.0</td>\n",
       "    </tr>\n",
       "    <tr>\n",
       "      <th>746368</th>\n",
       "      <td>16315</td>\n",
       "      <td>BrewDog</td>\n",
       "      <td>3.5</td>\n",
       "      <td>Sink The Bismarck!</td>\n",
       "      <td>41.0</td>\n",
       "    </tr>\n",
       "    <tr>\n",
       "      <th>746369</th>\n",
       "      <td>16315</td>\n",
       "      <td>BrewDog</td>\n",
       "      <td>3.5</td>\n",
       "      <td>Sink The Bismarck!</td>\n",
       "      <td>41.0</td>\n",
       "    </tr>\n",
       "    <tr>\n",
       "      <th>746371</th>\n",
       "      <td>16315</td>\n",
       "      <td>BrewDog</td>\n",
       "      <td>1.0</td>\n",
       "      <td>Sink The Bismarck!</td>\n",
       "      <td>41.0</td>\n",
       "    </tr>\n",
       "    <tr>\n",
       "      <th>746372</th>\n",
       "      <td>16315</td>\n",
       "      <td>BrewDog</td>\n",
       "      <td>2.5</td>\n",
       "      <td>Sink The Bismarck!</td>\n",
       "      <td>41.0</td>\n",
       "    </tr>\n",
       "    <tr>\n",
       "      <th>746373</th>\n",
       "      <td>16315</td>\n",
       "      <td>BrewDog</td>\n",
       "      <td>5.0</td>\n",
       "      <td>Sink The Bismarck!</td>\n",
       "      <td>41.0</td>\n",
       "    </tr>\n",
       "    <tr>\n",
       "      <th>746374</th>\n",
       "      <td>16315</td>\n",
       "      <td>BrewDog</td>\n",
       "      <td>4.0</td>\n",
       "      <td>Sink The Bismarck!</td>\n",
       "      <td>41.0</td>\n",
       "    </tr>\n",
       "    <tr>\n",
       "      <th>746375</th>\n",
       "      <td>16315</td>\n",
       "      <td>BrewDog</td>\n",
       "      <td>1.0</td>\n",
       "      <td>Sink The Bismarck!</td>\n",
       "      <td>41.0</td>\n",
       "    </tr>\n",
       "    <tr>\n",
       "      <th>746378</th>\n",
       "      <td>16315</td>\n",
       "      <td>BrewDog</td>\n",
       "      <td>4.0</td>\n",
       "      <td>Sink The Bismarck!</td>\n",
       "      <td>41.0</td>\n",
       "    </tr>\n",
       "    <tr>\n",
       "      <th>746377</th>\n",
       "      <td>16315</td>\n",
       "      <td>BrewDog</td>\n",
       "      <td>4.0</td>\n",
       "      <td>Sink The Bismarck!</td>\n",
       "      <td>41.0</td>\n",
       "    </tr>\n",
       "    <tr>\n",
       "      <th>746363</th>\n",
       "      <td>16315</td>\n",
       "      <td>BrewDog</td>\n",
       "      <td>1.5</td>\n",
       "      <td>Sink The Bismarck!</td>\n",
       "      <td>41.0</td>\n",
       "    </tr>\n",
       "    <tr>\n",
       "      <th>746379</th>\n",
       "      <td>16315</td>\n",
       "      <td>BrewDog</td>\n",
       "      <td>3.5</td>\n",
       "      <td>Sink The Bismarck!</td>\n",
       "      <td>41.0</td>\n",
       "    </tr>\n",
       "    <tr>\n",
       "      <th>746380</th>\n",
       "      <td>16315</td>\n",
       "      <td>BrewDog</td>\n",
       "      <td>2.0</td>\n",
       "      <td>Sink The Bismarck!</td>\n",
       "      <td>41.0</td>\n",
       "    </tr>\n",
       "  </tbody>\n",
       "</table>\n",
       "</div>"
      ],
      "text/plain": [
       "        brewery_id  brewery_name  review_overall  \\\n",
       "12919         6513  Schorschbräu             4.0   \n",
       "12939         6513  Schorschbräu             4.0   \n",
       "12940         6513  Schorschbräu             3.5   \n",
       "746399       16315       BrewDog             2.5   \n",
       "746376       16315       BrewDog             2.5   \n",
       "746365       16315       BrewDog             5.0   \n",
       "746366       16315       BrewDog             3.5   \n",
       "746367       16315       BrewDog             3.0   \n",
       "746368       16315       BrewDog             3.5   \n",
       "746369       16315       BrewDog             3.5   \n",
       "746371       16315       BrewDog             1.0   \n",
       "746372       16315       BrewDog             2.5   \n",
       "746373       16315       BrewDog             5.0   \n",
       "746374       16315       BrewDog             4.0   \n",
       "746375       16315       BrewDog             1.0   \n",
       "746378       16315       BrewDog             4.0   \n",
       "746377       16315       BrewDog             4.0   \n",
       "746363       16315       BrewDog             1.5   \n",
       "746379       16315       BrewDog             3.5   \n",
       "746380       16315       BrewDog             2.0   \n",
       "\n",
       "                            beer_name  beer_abv  \n",
       "12919   Schorschbräu Schorschbock 57%      57.7  \n",
       "12939   Schorschbräu Schorschbock 43%      43.0  \n",
       "12940   Schorschbräu Schorschbock 43%      43.0  \n",
       "746399             Sink The Bismarck!      41.0  \n",
       "746376             Sink The Bismarck!      41.0  \n",
       "746365             Sink The Bismarck!      41.0  \n",
       "746366             Sink The Bismarck!      41.0  \n",
       "746367             Sink The Bismarck!      41.0  \n",
       "746368             Sink The Bismarck!      41.0  \n",
       "746369             Sink The Bismarck!      41.0  \n",
       "746371             Sink The Bismarck!      41.0  \n",
       "746372             Sink The Bismarck!      41.0  \n",
       "746373             Sink The Bismarck!      41.0  \n",
       "746374             Sink The Bismarck!      41.0  \n",
       "746375             Sink The Bismarck!      41.0  \n",
       "746378             Sink The Bismarck!      41.0  \n",
       "746377             Sink The Bismarck!      41.0  \n",
       "746363             Sink The Bismarck!      41.0  \n",
       "746379             Sink The Bismarck!      41.0  \n",
       "746380             Sink The Bismarck!      41.0  "
      ]
     },
     "execution_count": 25,
     "metadata": {},
     "output_type": "execute_result"
    }
   ],
   "source": [
    "df_review[['brewery_id', \n",
    "           'brewery_name', \n",
    "           'review_overall',\n",
    "           'beer_name', \n",
    "           'beer_abv']].sort_values('beer_abv', ascending=False).head(20)"
   ]
  },
  {
   "cell_type": "markdown",
   "id": "e965312d",
   "metadata": {},
   "source": [
    "* It is understood from this table that there might be some duplications. To prevent displaying duplicates, beer names need to be unique. With this, we do not see the same beer name twice."
   ]
  },
  {
   "cell_type": "code",
   "execution_count": 26,
   "id": "811e6288",
   "metadata": {},
   "outputs": [
    {
     "data": {
      "text/html": [
       "<div>\n",
       "<style scoped>\n",
       "    .dataframe tbody tr th:only-of-type {\n",
       "        vertical-align: middle;\n",
       "    }\n",
       "\n",
       "    .dataframe tbody tr th {\n",
       "        vertical-align: top;\n",
       "    }\n",
       "\n",
       "    .dataframe thead th {\n",
       "        text-align: right;\n",
       "    }\n",
       "</style>\n",
       "<table border=\"1\" class=\"dataframe\">\n",
       "  <thead>\n",
       "    <tr style=\"text-align: right;\">\n",
       "      <th></th>\n",
       "      <th>brewery_id</th>\n",
       "      <th>brewery_name</th>\n",
       "      <th>beer_name</th>\n",
       "      <th>beer_abv</th>\n",
       "    </tr>\n",
       "  </thead>\n",
       "  <tbody>\n",
       "    <tr>\n",
       "      <th>12919</th>\n",
       "      <td>6513</td>\n",
       "      <td>Schorschbräu</td>\n",
       "      <td>Schorschbräu Schorschbock 57%</td>\n",
       "      <td>57.70</td>\n",
       "    </tr>\n",
       "    <tr>\n",
       "      <th>12939</th>\n",
       "      <td>6513</td>\n",
       "      <td>Schorschbräu</td>\n",
       "      <td>Schorschbräu Schorschbock 43%</td>\n",
       "      <td>43.00</td>\n",
       "    </tr>\n",
       "    <tr>\n",
       "      <th>746399</th>\n",
       "      <td>16315</td>\n",
       "      <td>BrewDog</td>\n",
       "      <td>Sink The Bismarck!</td>\n",
       "      <td>41.00</td>\n",
       "    </tr>\n",
       "    <tr>\n",
       "      <th>12934</th>\n",
       "      <td>6513</td>\n",
       "      <td>Schorschbräu</td>\n",
       "      <td>Schorschbräu Schorschbock 40%</td>\n",
       "      <td>39.44</td>\n",
       "    </tr>\n",
       "    <tr>\n",
       "      <th>996149</th>\n",
       "      <td>15237</td>\n",
       "      <td>De Struise Brouwers</td>\n",
       "      <td>Black Damnation VI - Messy</td>\n",
       "      <td>39.00</td>\n",
       "    </tr>\n",
       "    <tr>\n",
       "      <th>748383</th>\n",
       "      <td>16315</td>\n",
       "      <td>BrewDog</td>\n",
       "      <td>Tactical Nuclear Penguin</td>\n",
       "      <td>32.00</td>\n",
       "    </tr>\n",
       "    <tr>\n",
       "      <th>12918</th>\n",
       "      <td>6513</td>\n",
       "      <td>Schorschbräu</td>\n",
       "      <td>Schorschbräu Schorschbock 31%</td>\n",
       "      <td>30.86</td>\n",
       "    </tr>\n",
       "    <tr>\n",
       "      <th>1042327</th>\n",
       "      <td>173</td>\n",
       "      <td>Hair of the Dog Brewing Company / Brewery and ...</td>\n",
       "      <td>Dave</td>\n",
       "      <td>29.00</td>\n",
       "    </tr>\n",
       "    <tr>\n",
       "      <th>746420</th>\n",
       "      <td>16315</td>\n",
       "      <td>BrewDog</td>\n",
       "      <td>Ghost Deer</td>\n",
       "      <td>28.00</td>\n",
       "    </tr>\n",
       "    <tr>\n",
       "      <th>293885</th>\n",
       "      <td>35</td>\n",
       "      <td>Boston Beer Company (Samuel Adams)</td>\n",
       "      <td>Samuel Adams Utopias</td>\n",
       "      <td>27.00</td>\n",
       "    </tr>\n",
       "  </tbody>\n",
       "</table>\n",
       "</div>"
      ],
      "text/plain": [
       "         brewery_id                                       brewery_name  \\\n",
       "12919          6513                                       Schorschbräu   \n",
       "12939          6513                                       Schorschbräu   \n",
       "746399        16315                                            BrewDog   \n",
       "12934          6513                                       Schorschbräu   \n",
       "996149        15237                                De Struise Brouwers   \n",
       "748383        16315                                            BrewDog   \n",
       "12918          6513                                       Schorschbräu   \n",
       "1042327         173  Hair of the Dog Brewing Company / Brewery and ...   \n",
       "746420        16315                                            BrewDog   \n",
       "293885           35                 Boston Beer Company (Samuel Adams)   \n",
       "\n",
       "                             beer_name  beer_abv  \n",
       "12919    Schorschbräu Schorschbock 57%     57.70  \n",
       "12939    Schorschbräu Schorschbock 43%     43.00  \n",
       "746399              Sink The Bismarck!     41.00  \n",
       "12934    Schorschbräu Schorschbock 40%     39.44  \n",
       "996149      Black Damnation VI - Messy     39.00  \n",
       "748383        Tactical Nuclear Penguin     32.00  \n",
       "12918    Schorschbräu Schorschbock 31%     30.86  \n",
       "1042327                           Dave     29.00  \n",
       "746420                      Ghost Deer     28.00  \n",
       "293885            Samuel Adams Utopias     27.00  "
      ]
     },
     "execution_count": 26,
     "metadata": {},
     "output_type": "execute_result"
    }
   ],
   "source": [
    "strongest_beers = df_review[['brewery_id',\n",
    "                             'brewery_name',\n",
    "                             'beer_name', \n",
    "                             'beer_abv']].sort_values('beer_abv', ascending=False).drop_duplicates('beer_name').head(10)\n",
    "strongest_beers"
   ]
  },
  {
   "cell_type": "code",
   "execution_count": 27,
   "id": "eb9d03be",
   "metadata": {},
   "outputs": [
    {
     "data": {
      "text/html": [
       "<div>\n",
       "<style scoped>\n",
       "    .dataframe tbody tr th:only-of-type {\n",
       "        vertical-align: middle;\n",
       "    }\n",
       "\n",
       "    .dataframe tbody tr th {\n",
       "        vertical-align: top;\n",
       "    }\n",
       "\n",
       "    .dataframe thead th {\n",
       "        text-align: right;\n",
       "    }\n",
       "</style>\n",
       "<table border=\"1\" class=\"dataframe\">\n",
       "  <thead>\n",
       "    <tr style=\"text-align: right;\">\n",
       "      <th></th>\n",
       "      <th>brewery_id</th>\n",
       "      <th>brewery_name</th>\n",
       "      <th>beer_name</th>\n",
       "      <th>beer_abv</th>\n",
       "    </tr>\n",
       "  </thead>\n",
       "  <tbody>\n",
       "    <tr>\n",
       "      <th>12919</th>\n",
       "      <td>6513</td>\n",
       "      <td>Schorschbräu</td>\n",
       "      <td>Schorschbräu Schorschbock 57%</td>\n",
       "      <td>57.7</td>\n",
       "    </tr>\n",
       "  </tbody>\n",
       "</table>\n",
       "</div>"
      ],
      "text/plain": [
       "       brewery_id  brewery_name                      beer_name  beer_abv\n",
       "12919        6513  Schorschbräu  Schorschbräu Schorschbock 57%      57.7"
      ]
     },
     "execution_count": 27,
     "metadata": {},
     "output_type": "execute_result"
    }
   ],
   "source": [
    "strongest_beer = strongest_beers.head(1)\n",
    "strongest_beer"
   ]
  },
  {
   "cell_type": "code",
   "execution_count": 28,
   "id": "854e96c1",
   "metadata": {},
   "outputs": [],
   "source": [
    "brewery_name = strongest_beer['brewery_name'].iloc[0]\n",
    "beer_abv = strongest_beer['beer_abv'].iloc[0]"
   ]
  },
  {
   "cell_type": "code",
   "execution_count": 29,
   "id": "d4547f02",
   "metadata": {},
   "outputs": [
    {
     "name": "stdout",
     "output_type": "stream",
     "text": [
      "Schorschbräu is the brewery produces strongest beer with 57.7 % ABV.\n"
     ]
    }
   ],
   "source": [
    "print(f\"{brewery_name} is the brewery produces strongest beer with {beer_abv} % ABV.\")"
   ]
  },
  {
   "cell_type": "markdown",
   "id": "25f785d9",
   "metadata": {},
   "source": [
    "## 2) If you had to pick 3 beers to recommend to someone, how would you approach the problem?"
   ]
  },
  {
   "cell_type": "markdown",
   "id": "88b550c6",
   "metadata": {},
   "source": [
    "* When I think of recommendation scenarios, social media management immediately comes to mind. Social media platforms thrive on content being shared, liked, and reviewed, which helps drive the popularity of accounts and their posts. The most effective form of advertisement is when people come together to share their positive experiences, recommending a new product they have bought and enjoyed.\n",
    "\n",
    "  In my view, the overall review of a beer is a key indicator of customer satisfaction. A high review score reflects how much people appreciate the product, making it a strong factor in driving recommendations.\n"
   ]
  },
  {
   "cell_type": "markdown",
   "id": "6c4207c5",
   "metadata": {},
   "source": [
    "* My second approach is twofold. First, when it comes to recommendations, I believe the most important factor in choosing to drink a beverage again is its taste. If people enjoyed a drink they tried previously, they are more likely to want it again. This makes taste and aroma evaluations, such as review_taste and review_aroma, particularly important in understanding preferences.\n",
    "\n",
    "  On the other hand, my second approach takes the opposite view. In social or entertainment settings, people are often open to trying new things, especially when visiting a venue for the first time. In these cases, the variety of beer styles can reveal people's willingness to experiment and explore different options"
   ]
  },
  {
   "cell_type": "markdown",
   "id": "ee6840d7",
   "metadata": {},
   "source": [
    "* Everyone has a unique palate, and once a particular taste resonates with them, they may prefer to stick with it. This is why review_palate plays a significant role in guiding recommendations, as it reflects the individual’s preference for a certain flavor experience."
   ]
  },
  {
   "cell_type": "markdown",
   "id": "9ada8009",
   "metadata": {},
   "source": [
    "* Another approach I would consider is focusing on ABV (alcohol by volume), as beers with a higher ABV often tend to be more memorable and may become highly recommendable."
   ]
  },
  {
   "cell_type": "code",
   "execution_count": 30,
   "id": "2711f906",
   "metadata": {},
   "outputs": [
    {
     "data": {
      "text/html": [
       "<div>\n",
       "<style scoped>\n",
       "    .dataframe tbody tr th:only-of-type {\n",
       "        vertical-align: middle;\n",
       "    }\n",
       "\n",
       "    .dataframe tbody tr th {\n",
       "        vertical-align: top;\n",
       "    }\n",
       "\n",
       "    .dataframe thead th {\n",
       "        text-align: right;\n",
       "    }\n",
       "</style>\n",
       "<table border=\"1\" class=\"dataframe\">\n",
       "  <thead>\n",
       "    <tr style=\"text-align: right;\">\n",
       "      <th></th>\n",
       "      <th>beer_name</th>\n",
       "      <th>beer_style</th>\n",
       "      <th>review_overall</th>\n",
       "      <th>review_aroma</th>\n",
       "      <th>review_taste</th>\n",
       "      <th>review_palate</th>\n",
       "      <th>beer_abv</th>\n",
       "    </tr>\n",
       "  </thead>\n",
       "  <tbody>\n",
       "    <tr>\n",
       "      <th>4921</th>\n",
       "      <td>Armand'4 Oude Geuze Lente (Spring)</td>\n",
       "      <td>Gueuze</td>\n",
       "      <td>4.730769</td>\n",
       "      <td>4.715385</td>\n",
       "      <td>4.730769</td>\n",
       "      <td>4.669231</td>\n",
       "      <td>6.00</td>\n",
       "    </tr>\n",
       "    <tr>\n",
       "      <th>4583</th>\n",
       "      <td>Hoppy Birthday</td>\n",
       "      <td>American Pale Ale (APA)</td>\n",
       "      <td>4.684615</td>\n",
       "      <td>4.569231</td>\n",
       "      <td>4.546154</td>\n",
       "      <td>4.361538</td>\n",
       "      <td>5.25</td>\n",
       "    </tr>\n",
       "    <tr>\n",
       "      <th>4454</th>\n",
       "      <td>Citra DIPA</td>\n",
       "      <td>American Double / Imperial IPA</td>\n",
       "      <td>4.630952</td>\n",
       "      <td>4.690476</td>\n",
       "      <td>4.573413</td>\n",
       "      <td>4.373016</td>\n",
       "      <td>8.00</td>\n",
       "    </tr>\n",
       "  </tbody>\n",
       "</table>\n",
       "</div>"
      ],
      "text/plain": [
       "                               beer_name                      beer_style  \\\n",
       "4921  Armand'4 Oude Geuze Lente (Spring)                          Gueuze   \n",
       "4583                      Hoppy Birthday         American Pale Ale (APA)   \n",
       "4454                          Citra DIPA  American Double / Imperial IPA   \n",
       "\n",
       "      review_overall  review_aroma  review_taste  review_palate  beer_abv  \n",
       "4921        4.730769      4.715385      4.730769       4.669231      6.00  \n",
       "4583        4.684615      4.569231      4.546154       4.361538      5.25  \n",
       "4454        4.630952      4.690476      4.573413       4.373016      8.00  "
      ]
     },
     "execution_count": 30,
     "metadata": {},
     "output_type": "execute_result"
    }
   ],
   "source": [
    "min_reviews_threshold = 50\n",
    "beer_counts = df_review.groupby('beer_id').size()\n",
    "popular_beers = beer_counts[beer_counts >= min_reviews_threshold].index\n",
    "filtered_beers = df_review[df_review['beer_id'].isin(popular_beers)]\n",
    "\n",
    "beer_grouped = filtered_beers.groupby(['beer_id', 'beer_name', 'beer_style', 'beer_abv']).agg({\n",
    "    'review_overall': 'mean',\n",
    "    'review_aroma': 'mean',\n",
    "    'review_appearance': 'mean',\n",
    "    'review_palate': 'mean',\n",
    "    'review_taste': 'mean',\n",
    "    'review_profilename': 'count' \n",
    "}).reset_index()\n",
    "\n",
    "recommended_beers = beer_grouped.sort_values(by=['review_overall', \n",
    "                                                 'review_aroma', \n",
    "                                                 'review_taste', \n",
    "                                                 'review_palate'], ascending=False)\n",
    "\n",
    "top_beers = recommended_beers.groupby('beer_style').head(1).sort_values('review_overall', ascending=False).head(3)\n",
    "\n",
    "\n",
    "top_beers[['beer_name', \n",
    "           'beer_style',  \n",
    "           'review_overall', \n",
    "           'review_aroma', \n",
    "           'review_taste', \n",
    "           'review_palate',\n",
    "           'beer_abv',]]"
   ]
  },
  {
   "cell_type": "markdown",
   "id": "bb4cd1d4",
   "metadata": {},
   "source": [
    "## 3) What are the factors that impacts the quality of beer the most?"
   ]
  },
  {
   "cell_type": "markdown",
   "id": "5bb89940",
   "metadata": {},
   "source": [
    "* To determine the factors that most influence a beer's quality, it is essential to evaluate the relationships between them. By doing so, I can uncover how each factor impacts the overall rating. The key column to focus on here is review_overall, and its statistical correlation with the other variables will be analyzed to reveal their effect."
   ]
  },
  {
   "cell_type": "code",
   "execution_count": 31,
   "id": "987a883e",
   "metadata": {},
   "outputs": [
    {
     "data": {
      "text/plain": [
       "Index(['brewery_id', 'brewery_name', 'review_time', 'review_overall',\n",
       "       'review_aroma', 'review_appearance', 'review_profilename', 'beer_style',\n",
       "       'review_palate', 'review_taste', 'beer_name', 'beer_abv', 'beer_id'],\n",
       "      dtype='object')"
      ]
     },
     "execution_count": 31,
     "metadata": {},
     "output_type": "execute_result"
    }
   ],
   "source": [
    "df_review.columns"
   ]
  },
  {
   "cell_type": "code",
   "execution_count": 32,
   "id": "5003e3ab",
   "metadata": {
    "scrolled": true
   },
   "outputs": [
    {
     "data": {
      "text/html": [
       "<style type=\"text/css\">\n",
       "#T_11774_row0_col0, #T_11774_row1_col1, #T_11774_row2_col2, #T_11774_row3_col3, #T_11774_row4_col4 {\n",
       "  background-color: #00441b;\n",
       "  color: #f1f1f1;\n",
       "}\n",
       "#T_11774_row0_col1 {\n",
       "  background-color: #e5f5e1;\n",
       "  color: #000000;\n",
       "}\n",
       "#T_11774_row0_col2, #T_11774_row2_col0, #T_11774_row2_col1, #T_11774_row2_col3, #T_11774_row2_col4 {\n",
       "  background-color: #f7fcf5;\n",
       "  color: #000000;\n",
       "}\n",
       "#T_11774_row0_col3 {\n",
       "  background-color: #b5e1ae;\n",
       "  color: #000000;\n",
       "}\n",
       "#T_11774_row0_col4 {\n",
       "  background-color: #66bd6f;\n",
       "  color: #f1f1f1;\n",
       "}\n",
       "#T_11774_row1_col0 {\n",
       "  background-color: #ccebc6;\n",
       "  color: #000000;\n",
       "}\n",
       "#T_11774_row1_col2 {\n",
       "  background-color: #e6f5e1;\n",
       "  color: #000000;\n",
       "}\n",
       "#T_11774_row1_col3 {\n",
       "  background-color: #e7f6e2;\n",
       "  color: #000000;\n",
       "}\n",
       "#T_11774_row1_col4 {\n",
       "  background-color: #a2d99c;\n",
       "  color: #000000;\n",
       "}\n",
       "#T_11774_row3_col0 {\n",
       "  background-color: #98d594;\n",
       "  color: #000000;\n",
       "}\n",
       "#T_11774_row3_col1 {\n",
       "  background-color: #e5f5e0;\n",
       "  color: #000000;\n",
       "}\n",
       "#T_11774_row3_col2 {\n",
       "  background-color: #e4f5df;\n",
       "  color: #000000;\n",
       "}\n",
       "#T_11774_row3_col4 {\n",
       "  background-color: #94d390;\n",
       "  color: #000000;\n",
       "}\n",
       "#T_11774_row4_col0 {\n",
       "  background-color: #55b567;\n",
       "  color: #f1f1f1;\n",
       "}\n",
       "#T_11774_row4_col1 {\n",
       "  background-color: #a8dca2;\n",
       "  color: #000000;\n",
       "}\n",
       "#T_11774_row4_col2 {\n",
       "  background-color: #eaf7e6;\n",
       "  color: #000000;\n",
       "}\n",
       "#T_11774_row4_col3 {\n",
       "  background-color: #9ed798;\n",
       "  color: #000000;\n",
       "}\n",
       "</style>\n",
       "<table id=\"T_11774\">\n",
       "  <thead>\n",
       "    <tr>\n",
       "      <th class=\"blank level0\" >&nbsp;</th>\n",
       "      <th id=\"T_11774_level0_col0\" class=\"col_heading level0 col0\" >review_overall</th>\n",
       "      <th id=\"T_11774_level0_col1\" class=\"col_heading level0 col1\" >review_aroma</th>\n",
       "      <th id=\"T_11774_level0_col2\" class=\"col_heading level0 col2\" >review_appearance</th>\n",
       "      <th id=\"T_11774_level0_col3\" class=\"col_heading level0 col3\" >review_palate</th>\n",
       "      <th id=\"T_11774_level0_col4\" class=\"col_heading level0 col4\" >review_taste</th>\n",
       "    </tr>\n",
       "  </thead>\n",
       "  <tbody>\n",
       "    <tr>\n",
       "      <th id=\"T_11774_level0_row0\" class=\"row_heading level0 row0\" >review_overall</th>\n",
       "      <td id=\"T_11774_row0_col0\" class=\"data row0 col0\" >1.000000</td>\n",
       "      <td id=\"T_11774_row0_col1\" class=\"data row0 col1\" >0.612797</td>\n",
       "      <td id=\"T_11774_row0_col2\" class=\"data row0 col2\" >0.498480</td>\n",
       "      <td id=\"T_11774_row0_col3\" class=\"data row0 col3\" >0.699026</td>\n",
       "      <td id=\"T_11774_row0_col4\" class=\"data row0 col4\" >0.787177</td>\n",
       "    </tr>\n",
       "    <tr>\n",
       "      <th id=\"T_11774_level0_row1\" class=\"row_heading level0 row1\" >review_aroma</th>\n",
       "      <td id=\"T_11774_row1_col0\" class=\"data row1 col0\" >0.612797</td>\n",
       "      <td id=\"T_11774_row1_col1\" class=\"data row1 col1\" >1.000000</td>\n",
       "      <td id=\"T_11774_row1_col2\" class=\"data row1 col2\" >0.559084</td>\n",
       "      <td id=\"T_11774_row1_col3\" class=\"data row1 col3\" >0.614922</td>\n",
       "      <td id=\"T_11774_row1_col4\" class=\"data row1 col4\" >0.714774</td>\n",
       "    </tr>\n",
       "    <tr>\n",
       "      <th id=\"T_11774_level0_row2\" class=\"row_heading level0 row2\" >review_appearance</th>\n",
       "      <td id=\"T_11774_row2_col0\" class=\"data row2 col0\" >0.498480</td>\n",
       "      <td id=\"T_11774_row2_col1\" class=\"data row2 col1\" >0.559084</td>\n",
       "      <td id=\"T_11774_row2_col2\" class=\"data row2 col2\" >1.000000</td>\n",
       "      <td id=\"T_11774_row2_col3\" class=\"data row2 col3\" >0.564558</td>\n",
       "      <td id=\"T_11774_row2_col4\" class=\"data row2 col4\" >0.544570</td>\n",
       "    </tr>\n",
       "    <tr>\n",
       "      <th id=\"T_11774_level0_row3\" class=\"row_heading level0 row3\" >review_palate</th>\n",
       "      <td id=\"T_11774_row3_col0\" class=\"data row3 col0\" >0.699026</td>\n",
       "      <td id=\"T_11774_row3_col1\" class=\"data row3 col1\" >0.614922</td>\n",
       "      <td id=\"T_11774_row3_col2\" class=\"data row3 col2\" >0.564558</td>\n",
       "      <td id=\"T_11774_row3_col3\" class=\"data row3 col3\" >1.000000</td>\n",
       "      <td id=\"T_11774_row3_col4\" class=\"data row3 col4\" >0.732198</td>\n",
       "    </tr>\n",
       "    <tr>\n",
       "      <th id=\"T_11774_level0_row4\" class=\"row_heading level0 row4\" >review_taste</th>\n",
       "      <td id=\"T_11774_row4_col0\" class=\"data row4 col0\" >0.787177</td>\n",
       "      <td id=\"T_11774_row4_col1\" class=\"data row4 col1\" >0.714774</td>\n",
       "      <td id=\"T_11774_row4_col2\" class=\"data row4 col2\" >0.544570</td>\n",
       "      <td id=\"T_11774_row4_col3\" class=\"data row4 col3\" >0.732198</td>\n",
       "      <td id=\"T_11774_row4_col4\" class=\"data row4 col4\" >1.000000</td>\n",
       "    </tr>\n",
       "  </tbody>\n",
       "</table>\n"
      ],
      "text/plain": [
       "<pandas.io.formats.style.Styler at 0x2016ed29950>"
      ]
     },
     "execution_count": 32,
     "metadata": {},
     "output_type": "execute_result"
    }
   ],
   "source": [
    "factors = ['review_overall',\n",
    "           'review_aroma', \n",
    "           'review_appearance',\n",
    "           'review_palate', \n",
    "           'review_taste']\n",
    "\n",
    "\n",
    "corr_metrics = df_review[factors].corr()\n",
    "corr_metrics.style.background_gradient(cmap='Greens')"
   ]
  },
  {
   "cell_type": "markdown",
   "id": "6d6297e0",
   "metadata": {},
   "source": [
    "1) The factor with the highest correlation to overall beer quality is **review_taste** at **0.79**. This suggests that the taste of the beer has the most significant impact on how it is rated overall. Focusing on improving the taste of a beer to improve its quality score will likely yield the greatest improvement in ratings."
   ]
  },
  {
   "cell_type": "markdown",
   "id": "2fdd38c4",
   "metadata": {},
   "source": [
    "2) **review_palate** has the second highest correlation with overall quality at **0.70**, which is an indicator of how a beer leaves a taste in your mouth and strongly influences its overall rating. Customer satisfaction can be increased through detailed adjustments and improvements to the content of beverages."
   ]
  },
  {
   "cell_type": "markdown",
   "id": "fd03d11f",
   "metadata": {},
   "source": [
    "3) **aroma** plays a significant role as seen in the correlation chart with **0.61**. This indicates that the smell of the beer is moderately influential in shaping the overall score, but not as influential as taste or palate. Improving the aromatic profile of a beer can still positively impact the quality score, but not as significantly as taste."
   ]
  },
  {
   "cell_type": "markdown",
   "id": "c6a60272",
   "metadata": {},
   "source": [
    "4) **review_appearance** has the lowest correlation with **0.50** for overall quality. While appearance does affect the overall score, it is less influential than other factors such as taste and palate. Visual aspects such as color, foam, and clarity contribute, but they do not determine the quality of the beer."
   ]
  },
  {
   "cell_type": "markdown",
   "id": "0511c6fe",
   "metadata": {},
   "source": [
    "## 4) I enjoy a beer which aroma and appearance matches the beer style. What beer should I buy?"
   ]
  },
  {
   "cell_type": "markdown",
   "id": "5175871d",
   "metadata": {},
   "source": [
    "* To choose a beer where the aroma and appearance align with its style, I can refer to the df_grouped_style DataFrame, which groups beers by their style and calculates the average aroma (**review_aroma**) and appearance (**review_appearance**) ratings for each style. By analyzing these averages, I can identify which beer styles are most likely to offer an aroma and appearance that match reviewers' preferences. Higher average values for these factors within a specific beer style indicate a better match in those categories."
   ]
  },
  {
   "cell_type": "code",
   "execution_count": 33,
   "id": "6b267102",
   "metadata": {},
   "outputs": [],
   "source": [
    "df_grouped_style = df_review.groupby('beer_style')[['review_aroma', 'review_appearance']].mean()"
   ]
  },
  {
   "cell_type": "code",
   "execution_count": 34,
   "id": "ef5f498f",
   "metadata": {},
   "outputs": [],
   "source": [
    "high_quality_beers = df_review[\n",
    "    (df_review['review_aroma'] >= df_review['beer_style'].map(df_grouped_style['review_aroma'])) &\n",
    "    (df_review['review_appearance'] >= df_review['beer_style'].map(df_grouped_style['review_appearance']))]"
   ]
  },
  {
   "cell_type": "markdown",
   "id": "bd766021",
   "metadata": {},
   "source": [
    "* Filtering in those reviews above average **review_aroma** and **review_appearance**"
   ]
  },
  {
   "cell_type": "code",
   "execution_count": 35,
   "id": "362b9fe5",
   "metadata": {},
   "outputs": [],
   "source": [
    "enjoyed_beers = high_quality_beers.sort_values(by=['review_aroma','review_appearance'], ascending=False)"
   ]
  },
  {
   "cell_type": "code",
   "execution_count": 36,
   "id": "cecf3253",
   "metadata": {},
   "outputs": [],
   "source": [
    "top_beers = enjoyed_beers[['beer_name', \n",
    "                               'brewery_name', \n",
    "                               'beer_style', \n",
    "                               'review_overall',\n",
    "                               'review_aroma',\n",
    "                               'review_appearance']].drop_duplicates(subset='beer_name', keep='first')"
   ]
  },
  {
   "cell_type": "code",
   "execution_count": 37,
   "id": "8e0c58f9",
   "metadata": {},
   "outputs": [
    {
     "data": {
      "text/html": [
       "<div>\n",
       "<style scoped>\n",
       "    .dataframe tbody tr th:only-of-type {\n",
       "        vertical-align: middle;\n",
       "    }\n",
       "\n",
       "    .dataframe tbody tr th {\n",
       "        vertical-align: top;\n",
       "    }\n",
       "\n",
       "    .dataframe thead th {\n",
       "        text-align: right;\n",
       "    }\n",
       "</style>\n",
       "<table border=\"1\" class=\"dataframe\">\n",
       "  <thead>\n",
       "    <tr style=\"text-align: right;\">\n",
       "      <th></th>\n",
       "      <th>beer_name</th>\n",
       "      <th>brewery_name</th>\n",
       "      <th>beer_style</th>\n",
       "      <th>review_overall</th>\n",
       "      <th>review_aroma</th>\n",
       "      <th>review_appearance</th>\n",
       "    </tr>\n",
       "  </thead>\n",
       "  <tbody>\n",
       "    <tr>\n",
       "      <th>287</th>\n",
       "      <td>Old Growth Imperial Stout</td>\n",
       "      <td>Caldera Brewing Company</td>\n",
       "      <td>Russian Imperial Stout</td>\n",
       "      <td>5.0</td>\n",
       "      <td>5.0</td>\n",
       "      <td>5.0</td>\n",
       "    </tr>\n",
       "  </tbody>\n",
       "</table>\n",
       "</div>"
      ],
      "text/plain": [
       "                     beer_name             brewery_name  \\\n",
       "287  Old Growth Imperial Stout  Caldera Brewing Company   \n",
       "\n",
       "                 beer_style  review_overall  review_aroma  review_appearance  \n",
       "287  Russian Imperial Stout             5.0           5.0                5.0  "
      ]
     },
     "execution_count": 37,
     "metadata": {},
     "output_type": "execute_result"
    }
   ],
   "source": [
    "top_beers.head(1)"
   ]
  },
  {
   "cell_type": "markdown",
   "id": "55342620",
   "metadata": {},
   "source": [
    "* With this code, I was able to filter out beers whose aroma and appearance scores met or exceeded the average for their beer style, and then sort them by overall review score to come up with a list of beers you should buy based on that criterias."
   ]
  },
  {
   "cell_type": "markdown",
   "id": "e75e52ca",
   "metadata": {},
   "source": [
    "## <p style=\"background-color:#33475b; font-family:newtimeroman; color:#FFF9ED; font-size:150%; text-align:center; border-radius:10px 10px;\">End of the Project</p>\n",
    "\n",
    "<a id=\"4\"></a>"
   ]
  }
 ],
 "metadata": {
  "kernelspec": {
   "display_name": "Python 3 (ipykernel)",
   "language": "python",
   "name": "python3"
  },
  "language_info": {
   "codemirror_mode": {
    "name": "ipython",
    "version": 3
   },
   "file_extension": ".py",
   "mimetype": "text/x-python",
   "name": "python",
   "nbconvert_exporter": "python",
   "pygments_lexer": "ipython3",
   "version": "3.11.5"
  }
 },
 "nbformat": 4,
 "nbformat_minor": 5
}
